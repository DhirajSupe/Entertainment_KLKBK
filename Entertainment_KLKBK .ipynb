{
 "cells": [
  {
   "cell_type": "markdown",
   "id": "69c875fd-db58-4f94-b155-c629d2aefd4e",
   "metadata": {},
   "source": [
    "# Entertainment Ke Liye Kuchh Bhi Karega \n",
    "## Netflix & Amazone Prime Platform Datasets Analysis for Comparison :"
   ]
  },
  {
   "cell_type": "code",
   "execution_count": 1,
   "id": "09c44e21-0f64-414c-8adb-b6f18c64648b",
   "metadata": {},
   "outputs": [],
   "source": [
    "# Importing Important Libraries :\n",
    "\n",
    "import numpy as np\n",
    "import pandas as pd\n",
    "import matplotlib.pyplot as plt\n",
    "import seaborn as sns"
   ]
  },
  {
   "cell_type": "code",
   "execution_count": 2,
   "id": "e19c6c87-e3d6-4b6e-9368-d61a221f2091",
   "metadata": {},
   "outputs": [],
   "source": [
    "nf = pd.read_csv('./netflix_df.csv')\n",
    "ap = pd.read_csv('./amazon_prime_df.csv')"
   ]
  },
  {
   "cell_type": "code",
   "execution_count": 3,
   "id": "5b57288f-0a1b-429b-a548-56b42de1ae05",
   "metadata": {},
   "outputs": [
    {
     "data": {
      "text/html": [
       "<div>\n",
       "<style scoped>\n",
       "    .dataframe tbody tr th:only-of-type {\n",
       "        vertical-align: middle;\n",
       "    }\n",
       "\n",
       "    .dataframe tbody tr th {\n",
       "        vertical-align: top;\n",
       "    }\n",
       "\n",
       "    .dataframe thead th {\n",
       "        text-align: right;\n",
       "    }\n",
       "</style>\n",
       "<table border=\"1\" class=\"dataframe\">\n",
       "  <thead>\n",
       "    <tr style=\"text-align: right;\">\n",
       "      <th></th>\n",
       "      <th>show_id</th>\n",
       "      <th>type</th>\n",
       "      <th>title</th>\n",
       "      <th>director</th>\n",
       "      <th>cast</th>\n",
       "      <th>country</th>\n",
       "      <th>date_added</th>\n",
       "      <th>release_year</th>\n",
       "      <th>rating</th>\n",
       "      <th>duration</th>\n",
       "      <th>listed_in</th>\n",
       "      <th>description</th>\n",
       "    </tr>\n",
       "  </thead>\n",
       "  <tbody>\n",
       "    <tr>\n",
       "      <th>0</th>\n",
       "      <td>s1</td>\n",
       "      <td>Movie</td>\n",
       "      <td>Dick Johnson Is Dead</td>\n",
       "      <td>Kirsten Johnson</td>\n",
       "      <td>NaN</td>\n",
       "      <td>United States</td>\n",
       "      <td>September 25, 2021</td>\n",
       "      <td>2020</td>\n",
       "      <td>PG-13</td>\n",
       "      <td>90 min</td>\n",
       "      <td>Documentaries</td>\n",
       "      <td>As her father nears the end of his life, filmm...</td>\n",
       "    </tr>\n",
       "    <tr>\n",
       "      <th>1</th>\n",
       "      <td>s2</td>\n",
       "      <td>TV Show</td>\n",
       "      <td>Blood &amp; Water</td>\n",
       "      <td>NaN</td>\n",
       "      <td>Ama Qamata, Khosi Ngema, Gail Mabalane, Thaban...</td>\n",
       "      <td>South Africa</td>\n",
       "      <td>September 24, 2021</td>\n",
       "      <td>2021</td>\n",
       "      <td>TV-MA</td>\n",
       "      <td>2 Seasons</td>\n",
       "      <td>International TV Shows, TV Dramas, TV Mysteries</td>\n",
       "      <td>After crossing paths at a party, a Cape Town t...</td>\n",
       "    </tr>\n",
       "    <tr>\n",
       "      <th>2</th>\n",
       "      <td>s3</td>\n",
       "      <td>TV Show</td>\n",
       "      <td>Ganglands</td>\n",
       "      <td>Julien Leclercq</td>\n",
       "      <td>Sami Bouajila, Tracy Gotoas, Samuel Jouy, Nabi...</td>\n",
       "      <td>NaN</td>\n",
       "      <td>September 24, 2021</td>\n",
       "      <td>2021</td>\n",
       "      <td>TV-MA</td>\n",
       "      <td>1 Season</td>\n",
       "      <td>Crime TV Shows, International TV Shows, TV Act...</td>\n",
       "      <td>To protect his family from a powerful drug lor...</td>\n",
       "    </tr>\n",
       "  </tbody>\n",
       "</table>\n",
       "</div>"
      ],
      "text/plain": [
       "  show_id     type                 title         director  \\\n",
       "0      s1    Movie  Dick Johnson Is Dead  Kirsten Johnson   \n",
       "1      s2  TV Show         Blood & Water              NaN   \n",
       "2      s3  TV Show             Ganglands  Julien Leclercq   \n",
       "\n",
       "                                                cast        country  \\\n",
       "0                                                NaN  United States   \n",
       "1  Ama Qamata, Khosi Ngema, Gail Mabalane, Thaban...   South Africa   \n",
       "2  Sami Bouajila, Tracy Gotoas, Samuel Jouy, Nabi...            NaN   \n",
       "\n",
       "           date_added  release_year rating   duration  \\\n",
       "0  September 25, 2021          2020  PG-13     90 min   \n",
       "1  September 24, 2021          2021  TV-MA  2 Seasons   \n",
       "2  September 24, 2021          2021  TV-MA   1 Season   \n",
       "\n",
       "                                           listed_in  \\\n",
       "0                                      Documentaries   \n",
       "1    International TV Shows, TV Dramas, TV Mysteries   \n",
       "2  Crime TV Shows, International TV Shows, TV Act...   \n",
       "\n",
       "                                         description  \n",
       "0  As her father nears the end of his life, filmm...  \n",
       "1  After crossing paths at a party, a Cape Town t...  \n",
       "2  To protect his family from a powerful drug lor...  "
      ]
     },
     "execution_count": 3,
     "metadata": {},
     "output_type": "execute_result"
    }
   ],
   "source": [
    "nf.head(3)"
   ]
  },
  {
   "cell_type": "code",
   "execution_count": 4,
   "id": "c14f911f-b80f-49d7-87c2-c515e9cce17d",
   "metadata": {},
   "outputs": [
    {
     "data": {
      "text/html": [
       "<div>\n",
       "<style scoped>\n",
       "    .dataframe tbody tr th:only-of-type {\n",
       "        vertical-align: middle;\n",
       "    }\n",
       "\n",
       "    .dataframe tbody tr th {\n",
       "        vertical-align: top;\n",
       "    }\n",
       "\n",
       "    .dataframe thead th {\n",
       "        text-align: right;\n",
       "    }\n",
       "</style>\n",
       "<table border=\"1\" class=\"dataframe\">\n",
       "  <thead>\n",
       "    <tr style=\"text-align: right;\">\n",
       "      <th></th>\n",
       "      <th>show_id</th>\n",
       "      <th>type</th>\n",
       "      <th>title</th>\n",
       "      <th>director</th>\n",
       "      <th>cast</th>\n",
       "      <th>country</th>\n",
       "      <th>date_added</th>\n",
       "      <th>release_year</th>\n",
       "      <th>rating</th>\n",
       "      <th>duration</th>\n",
       "      <th>listed_in</th>\n",
       "      <th>description</th>\n",
       "    </tr>\n",
       "  </thead>\n",
       "  <tbody>\n",
       "    <tr>\n",
       "      <th>0</th>\n",
       "      <td>s1</td>\n",
       "      <td>Movie</td>\n",
       "      <td>The Grand Seduction</td>\n",
       "      <td>Don McKellar</td>\n",
       "      <td>Brendan Gleeson, Taylor Kitsch, Gordon Pinsent</td>\n",
       "      <td>Canada</td>\n",
       "      <td>March 30, 2021</td>\n",
       "      <td>2014</td>\n",
       "      <td>NaN</td>\n",
       "      <td>113 min</td>\n",
       "      <td>Comedy, Drama</td>\n",
       "      <td>A small fishing village must procure a local d...</td>\n",
       "    </tr>\n",
       "    <tr>\n",
       "      <th>1</th>\n",
       "      <td>s2</td>\n",
       "      <td>Movie</td>\n",
       "      <td>Take Care Good Night</td>\n",
       "      <td>Girish Joshi</td>\n",
       "      <td>Mahesh Manjrekar, Abhay Mahajan, Sachin Khedekar</td>\n",
       "      <td>India</td>\n",
       "      <td>March 30, 2021</td>\n",
       "      <td>2018</td>\n",
       "      <td>13+</td>\n",
       "      <td>110 min</td>\n",
       "      <td>Drama, International</td>\n",
       "      <td>A Metro Family decides to fight a Cyber Crimin...</td>\n",
       "    </tr>\n",
       "    <tr>\n",
       "      <th>2</th>\n",
       "      <td>s3</td>\n",
       "      <td>Movie</td>\n",
       "      <td>Secrets of Deception</td>\n",
       "      <td>Josh Webber</td>\n",
       "      <td>Tom Sizemore, Lorenzo Lamas, Robert LaSardo, R...</td>\n",
       "      <td>United States</td>\n",
       "      <td>March 30, 2021</td>\n",
       "      <td>2017</td>\n",
       "      <td>NaN</td>\n",
       "      <td>74 min</td>\n",
       "      <td>Action, Drama, Suspense</td>\n",
       "      <td>After a man discovers his wife is cheating on ...</td>\n",
       "    </tr>\n",
       "  </tbody>\n",
       "</table>\n",
       "</div>"
      ],
      "text/plain": [
       "  show_id   type                 title      director  \\\n",
       "0      s1  Movie   The Grand Seduction  Don McKellar   \n",
       "1      s2  Movie  Take Care Good Night  Girish Joshi   \n",
       "2      s3  Movie  Secrets of Deception   Josh Webber   \n",
       "\n",
       "                                                cast        country  \\\n",
       "0     Brendan Gleeson, Taylor Kitsch, Gordon Pinsent         Canada   \n",
       "1   Mahesh Manjrekar, Abhay Mahajan, Sachin Khedekar          India   \n",
       "2  Tom Sizemore, Lorenzo Lamas, Robert LaSardo, R...  United States   \n",
       "\n",
       "       date_added  release_year rating duration                listed_in  \\\n",
       "0  March 30, 2021          2014    NaN  113 min            Comedy, Drama   \n",
       "1  March 30, 2021          2018    13+  110 min     Drama, International   \n",
       "2  March 30, 2021          2017    NaN   74 min  Action, Drama, Suspense   \n",
       "\n",
       "                                         description  \n",
       "0  A small fishing village must procure a local d...  \n",
       "1  A Metro Family decides to fight a Cyber Crimin...  \n",
       "2  After a man discovers his wife is cheating on ...  "
      ]
     },
     "execution_count": 4,
     "metadata": {},
     "output_type": "execute_result"
    }
   ],
   "source": [
    "ap.head(3)"
   ]
  },
  {
   "cell_type": "markdown",
   "id": "84dd5452-866e-4eb6-89fb-ee54cb84e1f9",
   "metadata": {},
   "source": [
    "### Exploratory Data Analysis :"
   ]
  },
  {
   "cell_type": "code",
   "execution_count": 5,
   "id": "6a7a1271-99be-4c8f-85bf-01a5b2a12f19",
   "metadata": {},
   "outputs": [
    {
     "data": {
      "text/plain": [
       "(8807, 12)"
      ]
     },
     "execution_count": 5,
     "metadata": {},
     "output_type": "execute_result"
    }
   ],
   "source": [
    "nf.shape"
   ]
  },
  {
   "cell_type": "code",
   "execution_count": 6,
   "id": "fb1ecb9d-a6d7-458c-b3d8-7861d5b170ce",
   "metadata": {},
   "outputs": [
    {
     "data": {
      "text/plain": [
       "(9668, 12)"
      ]
     },
     "execution_count": 6,
     "metadata": {},
     "output_type": "execute_result"
    }
   ],
   "source": [
    "ap.shape"
   ]
  },
  {
   "cell_type": "code",
   "execution_count": 7,
   "id": "0204ca48-0279-4a43-90c2-cef042b6e5bf",
   "metadata": {},
   "outputs": [
    {
     "name": "stdout",
     "output_type": "stream",
     "text": [
      "<class 'pandas.core.frame.DataFrame'>\n",
      "RangeIndex: 8807 entries, 0 to 8806\n",
      "Data columns (total 12 columns):\n",
      " #   Column        Non-Null Count  Dtype \n",
      "---  ------        --------------  ----- \n",
      " 0   show_id       8807 non-null   object\n",
      " 1   type          8807 non-null   object\n",
      " 2   title         8807 non-null   object\n",
      " 3   director      6173 non-null   object\n",
      " 4   cast          7982 non-null   object\n",
      " 5   country       7976 non-null   object\n",
      " 6   date_added    8797 non-null   object\n",
      " 7   release_year  8807 non-null   int64 \n",
      " 8   rating        8803 non-null   object\n",
      " 9   duration      8804 non-null   object\n",
      " 10  listed_in     8807 non-null   object\n",
      " 11  description   8807 non-null   object\n",
      "dtypes: int64(1), object(11)\n",
      "memory usage: 825.8+ KB\n"
     ]
    }
   ],
   "source": [
    "nf.info()"
   ]
  },
  {
   "cell_type": "code",
   "execution_count": 8,
   "id": "9dd090bd-aa5f-4e77-876c-49328b092237",
   "metadata": {},
   "outputs": [
    {
     "name": "stdout",
     "output_type": "stream",
     "text": [
      "<class 'pandas.core.frame.DataFrame'>\n",
      "RangeIndex: 9668 entries, 0 to 9667\n",
      "Data columns (total 12 columns):\n",
      " #   Column        Non-Null Count  Dtype \n",
      "---  ------        --------------  ----- \n",
      " 0   show_id       9668 non-null   object\n",
      " 1   type          9668 non-null   object\n",
      " 2   title         9668 non-null   object\n",
      " 3   director      7585 non-null   object\n",
      " 4   cast          8435 non-null   object\n",
      " 5   country       672 non-null    object\n",
      " 6   date_added    155 non-null    object\n",
      " 7   release_year  9668 non-null   int64 \n",
      " 8   rating        9331 non-null   object\n",
      " 9   duration      9668 non-null   object\n",
      " 10  listed_in     9668 non-null   object\n",
      " 11  description   9668 non-null   object\n",
      "dtypes: int64(1), object(11)\n",
      "memory usage: 906.5+ KB\n"
     ]
    }
   ],
   "source": [
    "ap.info()"
   ]
  },
  {
   "cell_type": "code",
   "execution_count": 9,
   "id": "bc98a0aa-c4c0-4ffd-bc41-604dc5fe1850",
   "metadata": {},
   "outputs": [
    {
     "data": {
      "text/plain": [
       "Index(['show_id', 'type', 'title', 'director', 'cast', 'country', 'date_added',\n",
       "       'release_year', 'rating', 'duration', 'listed_in', 'description'],\n",
       "      dtype='object')"
      ]
     },
     "execution_count": 9,
     "metadata": {},
     "output_type": "execute_result"
    }
   ],
   "source": [
    "nf.columns"
   ]
  },
  {
   "cell_type": "code",
   "execution_count": 10,
   "id": "a0363495-3695-420c-980c-47f8b6d39c10",
   "metadata": {},
   "outputs": [
    {
     "data": {
      "text/plain": [
       "Index(['show_id', 'type', 'title', 'director', 'cast', 'country', 'date_added',\n",
       "       'release_year', 'rating', 'duration', 'listed_in', 'description'],\n",
       "      dtype='object')"
      ]
     },
     "execution_count": 10,
     "metadata": {},
     "output_type": "execute_result"
    }
   ],
   "source": [
    "ap.columns"
   ]
  },
  {
   "cell_type": "markdown",
   "id": "3bfc306e-13cc-49b1-b923-540b4715545a",
   "metadata": {},
   "source": [
    "# ======================================"
   ]
  },
  {
   "cell_type": "markdown",
   "id": "422c48b4-591f-42d1-bc3e-85e4fb246da6",
   "metadata": {},
   "source": [
    "### Firstly, Considering First Dataset : Netflix Dataset :"
   ]
  },
  {
   "cell_type": "code",
   "execution_count": 11,
   "id": "4d09bc83-4ead-4f01-a3a7-86ba1024c118",
   "metadata": {},
   "outputs": [
    {
     "data": {
      "text/plain": [
       "show_id            0\n",
       "type               0\n",
       "title              0\n",
       "director        2634\n",
       "cast             825\n",
       "country          831\n",
       "date_added        10\n",
       "release_year       0\n",
       "rating             4\n",
       "duration           3\n",
       "listed_in          0\n",
       "description        0\n",
       "dtype: int64"
      ]
     },
     "execution_count": 11,
     "metadata": {},
     "output_type": "execute_result"
    }
   ],
   "source": [
    "nf.isnull().sum()"
   ]
  },
  {
   "cell_type": "markdown",
   "id": "9455cba1-4748-4975-b793-9733f96a378b",
   "metadata": {},
   "source": [
    "#### Let's Fill the Missing Values Using Various Techniques for Netflix Dataset :"
   ]
  },
  {
   "cell_type": "code",
   "execution_count": 12,
   "id": "6b2f688a-5c57-4c09-abe0-e851b53b5701",
   "metadata": {},
   "outputs": [],
   "source": [
    "# Replacing the NaN values With mentioned Word ( Using Fillna() ):\n",
    "\n",
    "nf['director'] = nf['director'].fillna('UnAvailable')\n",
    "nf['cast'] = nf['cast'].fillna('UnAvailable')"
   ]
  },
  {
   "cell_type": "code",
   "execution_count": 13,
   "id": "d3c257b4-24f4-4fa3-9040-da716d058ad7",
   "metadata": {},
   "outputs": [],
   "source": [
    "# Replacing the NaN values with Mode of the column values ( using Fillna() ) :\n",
    "\n",
    "nf['country'] = nf['country'].fillna(nf['country'].mode()[0])\n",
    "nf['rating'] = nf['rating'].fillna(nf['rating'].mode()[0])"
   ]
  },
  {
   "cell_type": "code",
   "execution_count": 14,
   "id": "3997fc26-c1bd-455a-92ff-f42118bc94c0",
   "metadata": {},
   "outputs": [],
   "source": [
    "# Replacing the NaN values with Forward Fill ( Using ffill() method ) :\n",
    "\n",
    "nf['date_added'] = nf['date_added'].ffill()"
   ]
  },
  {
   "cell_type": "code",
   "execution_count": 15,
   "id": "e13b27c9-f189-48b6-a701-ab6ee84e3666",
   "metadata": {},
   "outputs": [
    {
     "name": "stdout",
     "output_type": "stream",
     "text": [
      "<class 'pandas.core.frame.DataFrame'>\n",
      "RangeIndex: 8807 entries, 0 to 8806\n",
      "Data columns (total 12 columns):\n",
      " #   Column        Non-Null Count  Dtype \n",
      "---  ------        --------------  ----- \n",
      " 0   show_id       8807 non-null   object\n",
      " 1   type          8807 non-null   object\n",
      " 2   title         8807 non-null   object\n",
      " 3   director      8807 non-null   object\n",
      " 4   cast          8807 non-null   object\n",
      " 5   country       8807 non-null   object\n",
      " 6   date_added    8807 non-null   object\n",
      " 7   release_year  8807 non-null   int64 \n",
      " 8   rating        8807 non-null   object\n",
      " 9   duration      8804 non-null   object\n",
      " 10  listed_in     8807 non-null   object\n",
      " 11  description   8807 non-null   object\n",
      "dtypes: int64(1), object(11)\n",
      "memory usage: 825.8+ KB\n"
     ]
    }
   ],
   "source": [
    "nf.info()"
   ]
  },
  {
   "cell_type": "markdown",
   "id": "64c09e41-a27b-4aa5-8283-74cb081cb127",
   "metadata": {},
   "source": [
    "### Checking for DataTypes :"
   ]
  },
  {
   "cell_type": "code",
   "execution_count": 16,
   "id": "755f5dc5-dcee-4101-a9ec-45dd3f6f194c",
   "metadata": {},
   "outputs": [],
   "source": [
    "# release_year column is in int64 format (It is ok to have it in int64 format BUT may be in future, we need it in datetime format), So converting it :\n",
    "\n",
    "# nf['release_year'] = pd.to_datetime(nf['release_year'], format = '%Y')\n",
    "nf['release_year'] = pd.to_datetime(nf['release_year'], format = '%Y').dt.year"
   ]
  },
  {
   "cell_type": "code",
   "execution_count": null,
   "id": "46369ef6-963d-4f91-a8cf-375c220c4168",
   "metadata": {},
   "outputs": [],
   "source": []
  },
  {
   "cell_type": "code",
   "execution_count": 17,
   "id": "ff03cb19-14d4-494b-99c8-546137349e06",
   "metadata": {},
   "outputs": [],
   "source": [
    "# Similarly, \"date_added\" column needs to be in Datetime format :\n",
    "\n",
    "nf['date_added'] = nf['date_added'].str.strip()          # as the leading space before the month stopping conversion. \n",
    "nf['date_added'] = pd.to_datetime(nf['date_added'], format = '%B %d, %Y')"
   ]
  },
  {
   "cell_type": "code",
   "execution_count": 18,
   "id": "a03741d0-ffa5-4616-b9c3-653f66b2f50e",
   "metadata": {},
   "outputs": [
    {
     "name": "stdout",
     "output_type": "stream",
     "text": [
      "<class 'pandas.core.frame.DataFrame'>\n",
      "RangeIndex: 8807 entries, 0 to 8806\n",
      "Data columns (total 12 columns):\n",
      " #   Column        Non-Null Count  Dtype         \n",
      "---  ------        --------------  -----         \n",
      " 0   show_id       8807 non-null   object        \n",
      " 1   type          8807 non-null   object        \n",
      " 2   title         8807 non-null   object        \n",
      " 3   director      8807 non-null   object        \n",
      " 4   cast          8807 non-null   object        \n",
      " 5   country       8807 non-null   object        \n",
      " 6   date_added    8807 non-null   datetime64[ns]\n",
      " 7   release_year  8807 non-null   int32         \n",
      " 8   rating        8807 non-null   object        \n",
      " 9   duration      8804 non-null   object        \n",
      " 10  listed_in     8807 non-null   object        \n",
      " 11  description   8807 non-null   object        \n",
      "dtypes: datetime64[ns](1), int32(1), object(10)\n",
      "memory usage: 791.4+ KB\n"
     ]
    }
   ],
   "source": [
    "nf.info()"
   ]
  },
  {
   "cell_type": "code",
   "execution_count": 19,
   "id": "1ed92099-e8dc-41e8-969d-0bd766cf4606",
   "metadata": {},
   "outputs": [
    {
     "data": {
      "text/plain": [
       "array(['90 min', '2 Seasons', '1 Season', '91 min', '125 min',\n",
       "       '9 Seasons', '104 min', '127 min', '4 Seasons', '67 min', '94 min',\n",
       "       '5 Seasons', '161 min', '61 min', '166 min', '147 min', '103 min',\n",
       "       '97 min', '106 min', '111 min', '3 Seasons', '110 min', '105 min',\n",
       "       '96 min', '124 min', '116 min', '98 min', '23 min', '115 min',\n",
       "       '122 min', '99 min', '88 min', '100 min', '6 Seasons', '102 min',\n",
       "       '93 min', '95 min', '85 min', '83 min', '113 min', '13 min',\n",
       "       '182 min', '48 min', '145 min', '87 min', '92 min', '80 min',\n",
       "       '117 min', '128 min', '119 min', '143 min', '114 min', '118 min',\n",
       "       '108 min', '63 min', '121 min', '142 min', '154 min', '120 min',\n",
       "       '82 min', '109 min', '101 min', '86 min', '229 min', '76 min',\n",
       "       '89 min', '156 min', '112 min', '107 min', '129 min', '135 min',\n",
       "       '136 min', '165 min', '150 min', '133 min', '70 min', '84 min',\n",
       "       '140 min', '78 min', '7 Seasons', '64 min', '59 min', '139 min',\n",
       "       '69 min', '148 min', '189 min', '141 min', '130 min', '138 min',\n",
       "       '81 min', '132 min', '10 Seasons', '123 min', '65 min', '68 min',\n",
       "       '66 min', '62 min', '74 min', '131 min', '39 min', '46 min',\n",
       "       '38 min', '8 Seasons', '17 Seasons', '126 min', '155 min',\n",
       "       '159 min', '137 min', '12 min', '273 min', '36 min', '34 min',\n",
       "       '77 min', '60 min', '49 min', '58 min', '72 min', '204 min',\n",
       "       '212 min', '25 min', '73 min', '29 min', '47 min', '32 min',\n",
       "       '35 min', '71 min', '149 min', '33 min', '15 min', '54 min',\n",
       "       '224 min', '162 min', '37 min', '75 min', '79 min', '55 min',\n",
       "       '158 min', '164 min', '173 min', '181 min', '185 min', '21 min',\n",
       "       '24 min', '51 min', '151 min', '42 min', '22 min', '134 min',\n",
       "       '177 min', '13 Seasons', '52 min', '14 min', '53 min', '8 min',\n",
       "       '57 min', '28 min', '50 min', '9 min', '26 min', '45 min',\n",
       "       '171 min', '27 min', '44 min', '146 min', '20 min', '157 min',\n",
       "       '17 min', '203 min', '41 min', '30 min', '194 min', '15 Seasons',\n",
       "       '233 min', '237 min', '230 min', '195 min', '253 min', '152 min',\n",
       "       '190 min', '160 min', '208 min', '180 min', '144 min', '5 min',\n",
       "       '174 min', '170 min', '192 min', '209 min', '187 min', '172 min',\n",
       "       '16 min', '186 min', '11 min', '193 min', '176 min', '56 min',\n",
       "       '169 min', '40 min', '10 min', '3 min', '168 min', '312 min',\n",
       "       '153 min', '214 min', '31 min', '163 min', '19 min', '12 Seasons',\n",
       "       nan, '179 min', '11 Seasons', '43 min', '200 min', '196 min',\n",
       "       '167 min', '178 min', '228 min', '18 min', '205 min', '201 min',\n",
       "       '191 min'], dtype=object)"
      ]
     },
     "execution_count": 19,
     "metadata": {},
     "output_type": "execute_result"
    }
   ],
   "source": [
    "# Now its Time for the Column \"duration\" : \n",
    "\n",
    "nf['duration'].unique()"
   ]
  },
  {
   "cell_type": "code",
   "execution_count": 20,
   "id": "e6e375c9-be59-402c-964e-2bd328930e8b",
   "metadata": {},
   "outputs": [
    {
     "data": {
      "text/plain": [
       "array(['Movie', 'TV Show'], dtype=object)"
      ]
     },
     "execution_count": 20,
     "metadata": {},
     "output_type": "execute_result"
    }
   ],
   "source": [
    "nf['type'].unique()"
   ]
  },
  {
   "cell_type": "code",
   "execution_count": 21,
   "id": "9717f294-26d2-4a2b-ab99-99744bf64b13",
   "metadata": {},
   "outputs": [
    {
     "data": {
      "text/plain": [
       "array(['2 Seasons', '1 Season', '9 Seasons', '4 Seasons', '5 Seasons',\n",
       "       '3 Seasons', '6 Seasons', '7 Seasons', '10 Seasons', '8 Seasons',\n",
       "       '17 Seasons', '13 Seasons', '15 Seasons', '12 Seasons',\n",
       "       '11 Seasons'], dtype=object)"
      ]
     },
     "execution_count": 21,
     "metadata": {},
     "output_type": "execute_result"
    }
   ],
   "source": [
    "nf[nf['type'] == 'TV Show']['duration'].unique()"
   ]
  },
  {
   "cell_type": "code",
   "execution_count": 22,
   "id": "fc9c8a04-a2c7-4272-b9ae-5a2aca984544",
   "metadata": {},
   "outputs": [
    {
     "data": {
      "text/plain": [
       "0        90 min\n",
       "6        91 min\n",
       "7       125 min\n",
       "9       104 min\n",
       "12      127 min\n",
       "         ...   \n",
       "8801     96 min\n",
       "8802    158 min\n",
       "8804     88 min\n",
       "8805     88 min\n",
       "8806    111 min\n",
       "Name: duration, Length: 6131, dtype: object"
      ]
     },
     "execution_count": 22,
     "metadata": {},
     "output_type": "execute_result"
    }
   ],
   "source": [
    "# Let's Sort the duration where values are in minutes :\n",
    "\n",
    "mins = nf[nf['type'] == 'Movie']['duration']\n",
    "mins"
   ]
  },
  {
   "cell_type": "code",
   "execution_count": 23,
   "id": "55141ebd-e4f2-4d3f-9416-7363cc9c5186",
   "metadata": {},
   "outputs": [],
   "source": [
    "# Let's make the \"mins\" variable Numeric :\n",
    "\n",
    "numeric = mins.str.extract(r'(\\d+\\.?\\d*)')[0]\n",
    "numeric = numeric.astype('float')"
   ]
  },
  {
   "cell_type": "code",
   "execution_count": 24,
   "id": "6751b745-0979-46a5-b57c-0e19f06d8307",
   "metadata": {},
   "outputs": [
    {
     "data": {
      "text/plain": [
       "0    90.0\n",
       "Name: 0, dtype: float64"
      ]
     },
     "execution_count": 24,
     "metadata": {},
     "output_type": "execute_result"
    }
   ],
   "source": [
    "numeric.mode()"
   ]
  },
  {
   "cell_type": "code",
   "execution_count": 25,
   "id": "ce21de9c-ecb4-4b4e-af28-65e538698b3e",
   "metadata": {},
   "outputs": [
    {
     "data": {
      "text/plain": [
       "0        90.0\n",
       "6        91.0\n",
       "7       125.0\n",
       "9       104.0\n",
       "12      127.0\n",
       "        ...  \n",
       "8801     96.0\n",
       "8802    158.0\n",
       "8804     88.0\n",
       "8805     88.0\n",
       "8806    111.0\n",
       "Name: 0, Length: 6131, dtype: float64"
      ]
     },
     "execution_count": 25,
     "metadata": {},
     "output_type": "execute_result"
    }
   ],
   "source": [
    "numeric"
   ]
  },
  {
   "cell_type": "code",
   "execution_count": 26,
   "id": "006c8107-57e7-45c7-86c6-bbc8e61f21e3",
   "metadata": {},
   "outputs": [],
   "source": [
    "# Let's fill the missing Values in \"duration\" Column :\n",
    "\n",
    "nf['duration'] = nf['duration'].fillna(numeric.mode()[0])"
   ]
  },
  {
   "cell_type": "code",
   "execution_count": 27,
   "id": "f28c1807-bc7d-45c3-9472-b7fa3023c355",
   "metadata": {},
   "outputs": [
    {
     "data": {
      "text/plain": [
       "100.0"
      ]
     },
     "execution_count": 27,
     "metadata": {},
     "output_type": "execute_result"
    }
   ],
   "source": [
    "# Getting Ceiling value only ( Not Necessary ) :\n",
    "\n",
    "avg_mins = np.ceil(numeric.mean())\n",
    "avg_mins"
   ]
  },
  {
   "cell_type": "code",
   "execution_count": 28,
   "id": "d0557914-6f85-48a1-911d-9e80507cfeb6",
   "metadata": {},
   "outputs": [
    {
     "data": {
      "text/plain": [
       "0          90 min\n",
       "1       2 Seasons\n",
       "2        1 Season\n",
       "3        1 Season\n",
       "4       2 Seasons\n",
       "          ...    \n",
       "8802      158 min\n",
       "8803    2 Seasons\n",
       "8804       88 min\n",
       "8805       88 min\n",
       "8806      111 min\n",
       "Name: duration, Length: 8807, dtype: object"
      ]
     },
     "execution_count": 28,
     "metadata": {},
     "output_type": "execute_result"
    }
   ],
   "source": [
    "nf['duration']"
   ]
  },
  {
   "cell_type": "code",
   "execution_count": 29,
   "id": "a3684006-0f77-4cdb-9b47-8f095879e0f0",
   "metadata": {},
   "outputs": [
    {
     "data": {
      "text/plain": [
       "duration\n",
       "False    6131\n",
       "True     2676\n",
       "Name: count, dtype: int64"
      ]
     },
     "execution_count": 29,
     "metadata": {},
     "output_type": "execute_result"
    }
   ],
   "source": [
    "nf['duration'].str.contains(r'season',case = False, na = False).value_counts()"
   ]
  },
  {
   "cell_type": "code",
   "execution_count": 30,
   "id": "cd3ff82c-2ae1-4b57-8683-ef8ab2572dec",
   "metadata": {},
   "outputs": [
    {
     "data": {
      "text/plain": [
       "0       False\n",
       "1        True\n",
       "2        True\n",
       "3        True\n",
       "4        True\n",
       "        ...  \n",
       "8802    False\n",
       "8803     True\n",
       "8804    False\n",
       "8805    False\n",
       "8806    False\n",
       "Name: duration, Length: 8807, dtype: bool"
      ]
     },
     "execution_count": 30,
     "metadata": {},
     "output_type": "execute_result"
    }
   ],
   "source": [
    "# Identify rows with 'season' or 'seasons'\n",
    "\n",
    "masked_season = nf['duration'].str.contains(r'season',case = False, na = False)\n",
    "masked_season"
   ]
  },
  {
   "cell_type": "code",
   "execution_count": 31,
   "id": "256300cc-091a-4d89-b0e1-1ca71a17e7d0",
   "metadata": {},
   "outputs": [],
   "source": [
    "# Extract number of season  and multiply with average_min\n",
    "\n",
    "nf.loc[masked_season,'season_value'] = nf.loc[masked_season,'duration'].str.extract(r'(\\d+)',expand = False).astype(float)\n",
    "\n",
    "nf.loc[masked_season, 'duration'] = (nf.loc[masked_season,'season_value'] * avg_mins).round(2).astype(str)"
   ]
  },
  {
   "cell_type": "code",
   "execution_count": 32,
   "id": "d0c1cbec-693d-4432-9e75-339996f6fa6c",
   "metadata": {},
   "outputs": [],
   "source": [
    "nf['min_value'] = nf['duration'].str.extract(r'(\\d+)\\s*min', expand=False).astype(float)\n",
    "\n",
    "nf.loc[~masked_season, 'duration'] = nf.loc[~masked_season, 'min_value'].astype(str)"
   ]
  },
  {
   "cell_type": "code",
   "execution_count": 33,
   "id": "d632427e-e82e-44e2-9fa9-5fc75e57385d",
   "metadata": {},
   "outputs": [
    {
     "data": {
      "text/plain": [
       "0        90.0\n",
       "1       200.0\n",
       "2       100.0\n",
       "3       100.0\n",
       "4       200.0\n",
       "        ...  \n",
       "8802    158.0\n",
       "8803    200.0\n",
       "8804     88.0\n",
       "8805     88.0\n",
       "8806    111.0\n",
       "Name: duration, Length: 8807, dtype: object"
      ]
     },
     "execution_count": 33,
     "metadata": {},
     "output_type": "execute_result"
    }
   ],
   "source": [
    "nf['duration']"
   ]
  },
  {
   "cell_type": "code",
   "execution_count": 34,
   "id": "7f097d3f-275f-4c1e-8ebf-abe9c5dee594",
   "metadata": {},
   "outputs": [],
   "source": [
    "nf.drop(['min_value', 'season_value'], axis=1, inplace=True)"
   ]
  },
  {
   "cell_type": "code",
   "execution_count": 35,
   "id": "ebcd597a-7ddf-496e-b9c0-a3c2a2304789",
   "metadata": {},
   "outputs": [],
   "source": [
    "nf.drop(['show_id','description'],axis = 1,inplace = True)"
   ]
  },
  {
   "cell_type": "code",
   "execution_count": 36,
   "id": "c77ee8c8-d809-44ba-9af9-78b33e05ea6a",
   "metadata": {},
   "outputs": [],
   "source": [
    "nf.rename({'listed_in':'category'},axis = 1,inplace = True)"
   ]
  },
  {
   "cell_type": "code",
   "execution_count": 37,
   "id": "f41301b7-fc61-41a0-8db1-c4c7a9daf63c",
   "metadata": {},
   "outputs": [
    {
     "data": {
      "text/plain": [
       "type            0\n",
       "title           0\n",
       "director        0\n",
       "cast            0\n",
       "country         0\n",
       "date_added      0\n",
       "release_year    0\n",
       "rating          0\n",
       "duration        0\n",
       "category        0\n",
       "dtype: int64"
      ]
     },
     "execution_count": 37,
     "metadata": {},
     "output_type": "execute_result"
    }
   ],
   "source": [
    "nf.isnull().sum()"
   ]
  },
  {
   "cell_type": "code",
   "execution_count": 38,
   "id": "52760471-e62b-482e-9d35-f35e94a4325c",
   "metadata": {},
   "outputs": [
    {
     "data": {
      "text/plain": [
       "array(['PG-13', 'TV-MA', 'PG', 'TV-14', 'TV-PG', 'TV-Y', 'TV-Y7', 'R',\n",
       "       'TV-G', 'G', 'NC-17', '74 min', '84 min', '66 min', 'NR',\n",
       "       'TV-Y7-FV', 'UR'], dtype=object)"
      ]
     },
     "execution_count": 38,
     "metadata": {},
     "output_type": "execute_result"
    }
   ],
   "source": [
    "# Dealing with Rating Column :\n",
    "nf['rating'].unique()"
   ]
  },
  {
   "cell_type": "code",
   "execution_count": 39,
   "id": "f9b53e0e-8315-42d0-b74b-c39c431c51c2",
   "metadata": {},
   "outputs": [
    {
     "data": {
      "text/html": [
       "<div>\n",
       "<style scoped>\n",
       "    .dataframe tbody tr th:only-of-type {\n",
       "        vertical-align: middle;\n",
       "    }\n",
       "\n",
       "    .dataframe tbody tr th {\n",
       "        vertical-align: top;\n",
       "    }\n",
       "\n",
       "    .dataframe thead th {\n",
       "        text-align: right;\n",
       "    }\n",
       "</style>\n",
       "<table border=\"1\" class=\"dataframe\">\n",
       "  <thead>\n",
       "    <tr style=\"text-align: right;\">\n",
       "      <th></th>\n",
       "      <th>type</th>\n",
       "      <th>title</th>\n",
       "      <th>director</th>\n",
       "      <th>cast</th>\n",
       "      <th>country</th>\n",
       "      <th>date_added</th>\n",
       "      <th>release_year</th>\n",
       "      <th>rating</th>\n",
       "      <th>duration</th>\n",
       "      <th>category</th>\n",
       "    </tr>\n",
       "  </thead>\n",
       "  <tbody>\n",
       "    <tr>\n",
       "      <th>5541</th>\n",
       "      <td>Movie</td>\n",
       "      <td>Louis C.K. 2017</td>\n",
       "      <td>Louis C.K.</td>\n",
       "      <td>Louis C.K.</td>\n",
       "      <td>United States</td>\n",
       "      <td>2017-04-04</td>\n",
       "      <td>2017</td>\n",
       "      <td>74 min</td>\n",
       "      <td>nan</td>\n",
       "      <td>Movies</td>\n",
       "    </tr>\n",
       "    <tr>\n",
       "      <th>5794</th>\n",
       "      <td>Movie</td>\n",
       "      <td>Louis C.K.: Hilarious</td>\n",
       "      <td>Louis C.K.</td>\n",
       "      <td>Louis C.K.</td>\n",
       "      <td>United States</td>\n",
       "      <td>2016-09-16</td>\n",
       "      <td>2010</td>\n",
       "      <td>84 min</td>\n",
       "      <td>nan</td>\n",
       "      <td>Movies</td>\n",
       "    </tr>\n",
       "    <tr>\n",
       "      <th>5813</th>\n",
       "      <td>Movie</td>\n",
       "      <td>Louis C.K.: Live at the Comedy Store</td>\n",
       "      <td>Louis C.K.</td>\n",
       "      <td>Louis C.K.</td>\n",
       "      <td>United States</td>\n",
       "      <td>2016-08-15</td>\n",
       "      <td>2015</td>\n",
       "      <td>66 min</td>\n",
       "      <td>nan</td>\n",
       "      <td>Movies</td>\n",
       "    </tr>\n",
       "  </tbody>\n",
       "</table>\n",
       "</div>"
      ],
      "text/plain": [
       "       type                                 title    director        cast  \\\n",
       "5541  Movie                       Louis C.K. 2017  Louis C.K.  Louis C.K.   \n",
       "5794  Movie                 Louis C.K.: Hilarious  Louis C.K.  Louis C.K.   \n",
       "5813  Movie  Louis C.K.: Live at the Comedy Store  Louis C.K.  Louis C.K.   \n",
       "\n",
       "            country date_added  release_year  rating duration category  \n",
       "5541  United States 2017-04-04          2017  74 min      nan   Movies  \n",
       "5794  United States 2016-09-16          2010  84 min      nan   Movies  \n",
       "5813  United States 2016-08-15          2015  66 min      nan   Movies  "
      ]
     },
     "execution_count": 39,
     "metadata": {},
     "output_type": "execute_result"
    }
   ],
   "source": [
    "nf[nf['rating'].isin(['74 min' , '84 min' , '66 min'])]"
   ]
  },
  {
   "cell_type": "code",
   "execution_count": 40,
   "id": "7acdd0de-3153-4902-b55a-d891fcbcd04a",
   "metadata": {},
   "outputs": [
    {
     "data": {
      "text/plain": [
       "0    TV-MA\n",
       "Name: rating, dtype: object"
      ]
     },
     "execution_count": 40,
     "metadata": {},
     "output_type": "execute_result"
    }
   ],
   "source": [
    "nf['rating'].mode()"
   ]
  },
  {
   "cell_type": "code",
   "execution_count": 41,
   "id": "994130ae-8be9-4088-8c06-94d8b2f1aa93",
   "metadata": {},
   "outputs": [],
   "source": [
    "# nf['rating'] = nf['rating'].replace (['74 min','84 min','66 min'],r)  ---\n",
    "# Showing error : ValueError: Replacement lists must match in length. Expecting 3 got 1 "
   ]
  },
  {
   "cell_type": "code",
   "execution_count": 42,
   "id": "b6a34d8a-d5a7-4d8d-8251-e59e4bf4d20b",
   "metadata": {},
   "outputs": [],
   "source": [
    "# nf['rating'] = nf['rating'].replace({'74 min': r, '84 min': r,'66 min': r }) ----\n",
    "# Showing Error : AttributeError: 'Series' object has no attribute '_replace_columnwise'"
   ]
  },
  {
   "cell_type": "code",
   "execution_count": 43,
   "id": "d5c836b7-ca5c-4a71-974a-7050ac9bd83e",
   "metadata": {},
   "outputs": [],
   "source": [
    "nf.loc[nf['rating'].isin(['74 min','84 min','66 min','nan']), 'rating'] = 'TV-MA'"
   ]
  },
  {
   "cell_type": "code",
   "execution_count": 44,
   "id": "290724d5-014f-498d-af7d-a52736644531",
   "metadata": {},
   "outputs": [
    {
     "data": {
      "text/plain": [
       "array(['PG-13', 'TV-MA', 'PG', 'TV-14', 'TV-PG', 'TV-Y', 'TV-Y7', 'R',\n",
       "       'TV-G', 'G', 'NC-17', 'NR', 'TV-Y7-FV', 'UR'], dtype=object)"
      ]
     },
     "execution_count": 44,
     "metadata": {},
     "output_type": "execute_result"
    }
   ],
   "source": [
    "nf['rating'].unique()"
   ]
  },
  {
   "cell_type": "code",
   "execution_count": 45,
   "id": "a0002e6a-3efd-49a8-834a-203a0589065d",
   "metadata": {},
   "outputs": [
    {
     "data": {
      "text/plain": [
       "0"
      ]
     },
     "execution_count": 45,
     "metadata": {},
     "output_type": "execute_result"
    }
   ],
   "source": [
    "nf['duration'].isna().sum()"
   ]
  },
  {
   "cell_type": "code",
   "execution_count": 46,
   "id": "f5758e74-3f32-4489-af2b-52b06f6022ad",
   "metadata": {},
   "outputs": [
    {
     "data": {
      "text/html": [
       "<div>\n",
       "<style scoped>\n",
       "    .dataframe tbody tr th:only-of-type {\n",
       "        vertical-align: middle;\n",
       "    }\n",
       "\n",
       "    .dataframe tbody tr th {\n",
       "        vertical-align: top;\n",
       "    }\n",
       "\n",
       "    .dataframe thead th {\n",
       "        text-align: right;\n",
       "    }\n",
       "</style>\n",
       "<table border=\"1\" class=\"dataframe\">\n",
       "  <thead>\n",
       "    <tr style=\"text-align: right;\">\n",
       "      <th></th>\n",
       "      <th>type</th>\n",
       "      <th>title</th>\n",
       "      <th>director</th>\n",
       "      <th>cast</th>\n",
       "      <th>country</th>\n",
       "      <th>date_added</th>\n",
       "      <th>release_year</th>\n",
       "      <th>rating</th>\n",
       "      <th>duration</th>\n",
       "      <th>category</th>\n",
       "    </tr>\n",
       "  </thead>\n",
       "  <tbody>\n",
       "    <tr>\n",
       "      <th>5541</th>\n",
       "      <td>Movie</td>\n",
       "      <td>Louis C.K. 2017</td>\n",
       "      <td>Louis C.K.</td>\n",
       "      <td>Louis C.K.</td>\n",
       "      <td>United States</td>\n",
       "      <td>2017-04-04</td>\n",
       "      <td>2017</td>\n",
       "      <td>TV-MA</td>\n",
       "      <td>nan</td>\n",
       "      <td>Movies</td>\n",
       "    </tr>\n",
       "    <tr>\n",
       "      <th>5794</th>\n",
       "      <td>Movie</td>\n",
       "      <td>Louis C.K.: Hilarious</td>\n",
       "      <td>Louis C.K.</td>\n",
       "      <td>Louis C.K.</td>\n",
       "      <td>United States</td>\n",
       "      <td>2016-09-16</td>\n",
       "      <td>2010</td>\n",
       "      <td>TV-MA</td>\n",
       "      <td>nan</td>\n",
       "      <td>Movies</td>\n",
       "    </tr>\n",
       "    <tr>\n",
       "      <th>5813</th>\n",
       "      <td>Movie</td>\n",
       "      <td>Louis C.K.: Live at the Comedy Store</td>\n",
       "      <td>Louis C.K.</td>\n",
       "      <td>Louis C.K.</td>\n",
       "      <td>United States</td>\n",
       "      <td>2016-08-15</td>\n",
       "      <td>2015</td>\n",
       "      <td>TV-MA</td>\n",
       "      <td>nan</td>\n",
       "      <td>Movies</td>\n",
       "    </tr>\n",
       "  </tbody>\n",
       "</table>\n",
       "</div>"
      ],
      "text/plain": [
       "       type                                 title    director        cast  \\\n",
       "5541  Movie                       Louis C.K. 2017  Louis C.K.  Louis C.K.   \n",
       "5794  Movie                 Louis C.K.: Hilarious  Louis C.K.  Louis C.K.   \n",
       "5813  Movie  Louis C.K.: Live at the Comedy Store  Louis C.K.  Louis C.K.   \n",
       "\n",
       "            country date_added  release_year rating duration category  \n",
       "5541  United States 2017-04-04          2017  TV-MA      nan   Movies  \n",
       "5794  United States 2016-09-16          2010  TV-MA      nan   Movies  \n",
       "5813  United States 2016-08-15          2015  TV-MA      nan   Movies  "
      ]
     },
     "execution_count": 46,
     "metadata": {},
     "output_type": "execute_result"
    }
   ],
   "source": [
    "nf[nf['duration'] == 'nan']"
   ]
  },
  {
   "cell_type": "code",
   "execution_count": 47,
   "id": "70dd3261-23be-4e47-b840-d43eb97ab9bf",
   "metadata": {},
   "outputs": [],
   "source": [
    "nf.loc[nf['duration'].isin(['nan']), 'duration'] = 100.0 "
   ]
  },
  {
   "cell_type": "code",
   "execution_count": 48,
   "id": "159e3177-720e-4327-b778-feeaf27bf3d6",
   "metadata": {},
   "outputs": [
    {
     "data": {
      "text/html": [
       "<div>\n",
       "<style scoped>\n",
       "    .dataframe tbody tr th:only-of-type {\n",
       "        vertical-align: middle;\n",
       "    }\n",
       "\n",
       "    .dataframe tbody tr th {\n",
       "        vertical-align: top;\n",
       "    }\n",
       "\n",
       "    .dataframe thead th {\n",
       "        text-align: right;\n",
       "    }\n",
       "</style>\n",
       "<table border=\"1\" class=\"dataframe\">\n",
       "  <thead>\n",
       "    <tr style=\"text-align: right;\">\n",
       "      <th></th>\n",
       "      <th>type</th>\n",
       "      <th>title</th>\n",
       "      <th>director</th>\n",
       "      <th>cast</th>\n",
       "      <th>country</th>\n",
       "      <th>date_added</th>\n",
       "      <th>release_year</th>\n",
       "      <th>rating</th>\n",
       "      <th>duration</th>\n",
       "      <th>category</th>\n",
       "    </tr>\n",
       "  </thead>\n",
       "  <tbody>\n",
       "  </tbody>\n",
       "</table>\n",
       "</div>"
      ],
      "text/plain": [
       "Empty DataFrame\n",
       "Columns: [type, title, director, cast, country, date_added, release_year, rating, duration, category]\n",
       "Index: []"
      ]
     },
     "execution_count": 48,
     "metadata": {},
     "output_type": "execute_result"
    }
   ],
   "source": [
    "nf[nf['duration'] == 'nan']"
   ]
  },
  {
   "cell_type": "code",
   "execution_count": 49,
   "id": "5a215c0d-2dae-48cb-80a7-14d388fda6e7",
   "metadata": {},
   "outputs": [
    {
     "data": {
      "text/plain": [
       "Index(['type', 'title', 'director', 'cast', 'country', 'date_added',\n",
       "       'release_year', 'rating', 'duration', 'category'],\n",
       "      dtype='object')"
      ]
     },
     "execution_count": 49,
     "metadata": {},
     "output_type": "execute_result"
    }
   ],
   "source": [
    "nf.columns"
   ]
  },
  {
   "cell_type": "markdown",
   "id": "2ed2798b-1aee-4210-b956-9d49ebf5b46e",
   "metadata": {},
   "source": [
    "# ==================================================="
   ]
  },
  {
   "cell_type": "markdown",
   "id": "722a612c-3496-43c0-a949-807d07e32019",
   "metadata": {},
   "source": [
    "### Now moving towards second Dataset : Amazon Prime dataset. "
   ]
  },
  {
   "cell_type": "code",
   "execution_count": 50,
   "id": "3362f794-d238-4dcc-bd08-62f78d4cb88c",
   "metadata": {},
   "outputs": [
    {
     "data": {
      "text/html": [
       "<div>\n",
       "<style scoped>\n",
       "    .dataframe tbody tr th:only-of-type {\n",
       "        vertical-align: middle;\n",
       "    }\n",
       "\n",
       "    .dataframe tbody tr th {\n",
       "        vertical-align: top;\n",
       "    }\n",
       "\n",
       "    .dataframe thead th {\n",
       "        text-align: right;\n",
       "    }\n",
       "</style>\n",
       "<table border=\"1\" class=\"dataframe\">\n",
       "  <thead>\n",
       "    <tr style=\"text-align: right;\">\n",
       "      <th></th>\n",
       "      <th>show_id</th>\n",
       "      <th>type</th>\n",
       "      <th>title</th>\n",
       "      <th>director</th>\n",
       "      <th>cast</th>\n",
       "      <th>country</th>\n",
       "      <th>date_added</th>\n",
       "      <th>release_year</th>\n",
       "      <th>rating</th>\n",
       "      <th>duration</th>\n",
       "      <th>listed_in</th>\n",
       "      <th>description</th>\n",
       "    </tr>\n",
       "  </thead>\n",
       "  <tbody>\n",
       "    <tr>\n",
       "      <th>0</th>\n",
       "      <td>s1</td>\n",
       "      <td>Movie</td>\n",
       "      <td>The Grand Seduction</td>\n",
       "      <td>Don McKellar</td>\n",
       "      <td>Brendan Gleeson, Taylor Kitsch, Gordon Pinsent</td>\n",
       "      <td>Canada</td>\n",
       "      <td>March 30, 2021</td>\n",
       "      <td>2014</td>\n",
       "      <td>NaN</td>\n",
       "      <td>113 min</td>\n",
       "      <td>Comedy, Drama</td>\n",
       "      <td>A small fishing village must procure a local d...</td>\n",
       "    </tr>\n",
       "    <tr>\n",
       "      <th>1</th>\n",
       "      <td>s2</td>\n",
       "      <td>Movie</td>\n",
       "      <td>Take Care Good Night</td>\n",
       "      <td>Girish Joshi</td>\n",
       "      <td>Mahesh Manjrekar, Abhay Mahajan, Sachin Khedekar</td>\n",
       "      <td>India</td>\n",
       "      <td>March 30, 2021</td>\n",
       "      <td>2018</td>\n",
       "      <td>13+</td>\n",
       "      <td>110 min</td>\n",
       "      <td>Drama, International</td>\n",
       "      <td>A Metro Family decides to fight a Cyber Crimin...</td>\n",
       "    </tr>\n",
       "    <tr>\n",
       "      <th>2</th>\n",
       "      <td>s3</td>\n",
       "      <td>Movie</td>\n",
       "      <td>Secrets of Deception</td>\n",
       "      <td>Josh Webber</td>\n",
       "      <td>Tom Sizemore, Lorenzo Lamas, Robert LaSardo, R...</td>\n",
       "      <td>United States</td>\n",
       "      <td>March 30, 2021</td>\n",
       "      <td>2017</td>\n",
       "      <td>NaN</td>\n",
       "      <td>74 min</td>\n",
       "      <td>Action, Drama, Suspense</td>\n",
       "      <td>After a man discovers his wife is cheating on ...</td>\n",
       "    </tr>\n",
       "    <tr>\n",
       "      <th>3</th>\n",
       "      <td>s4</td>\n",
       "      <td>Movie</td>\n",
       "      <td>Pink: Staying True</td>\n",
       "      <td>Sonia Anderson</td>\n",
       "      <td>Interviews with: Pink, Adele, Beyoncé, Britney...</td>\n",
       "      <td>United States</td>\n",
       "      <td>March 30, 2021</td>\n",
       "      <td>2014</td>\n",
       "      <td>NaN</td>\n",
       "      <td>69 min</td>\n",
       "      <td>Documentary</td>\n",
       "      <td>Pink breaks the mold once again, bringing her ...</td>\n",
       "    </tr>\n",
       "    <tr>\n",
       "      <th>4</th>\n",
       "      <td>s5</td>\n",
       "      <td>Movie</td>\n",
       "      <td>Monster Maker</td>\n",
       "      <td>Giles Foster</td>\n",
       "      <td>Harry Dean Stanton, Kieran O'Brien, George Cos...</td>\n",
       "      <td>United Kingdom</td>\n",
       "      <td>March 30, 2021</td>\n",
       "      <td>1989</td>\n",
       "      <td>NaN</td>\n",
       "      <td>45 min</td>\n",
       "      <td>Drama, Fantasy</td>\n",
       "      <td>Teenage Matt Banting wants to work with a famo...</td>\n",
       "    </tr>\n",
       "    <tr>\n",
       "      <th>...</th>\n",
       "      <td>...</td>\n",
       "      <td>...</td>\n",
       "      <td>...</td>\n",
       "      <td>...</td>\n",
       "      <td>...</td>\n",
       "      <td>...</td>\n",
       "      <td>...</td>\n",
       "      <td>...</td>\n",
       "      <td>...</td>\n",
       "      <td>...</td>\n",
       "      <td>...</td>\n",
       "      <td>...</td>\n",
       "    </tr>\n",
       "    <tr>\n",
       "      <th>9663</th>\n",
       "      <td>s9664</td>\n",
       "      <td>Movie</td>\n",
       "      <td>Pride Of The Bowery</td>\n",
       "      <td>Joseph H. Lewis</td>\n",
       "      <td>Leo Gorcey, Bobby Jordan</td>\n",
       "      <td>NaN</td>\n",
       "      <td>NaN</td>\n",
       "      <td>1940</td>\n",
       "      <td>7+</td>\n",
       "      <td>60 min</td>\n",
       "      <td>Comedy</td>\n",
       "      <td>New York City street principles get an East Si...</td>\n",
       "    </tr>\n",
       "    <tr>\n",
       "      <th>9664</th>\n",
       "      <td>s9665</td>\n",
       "      <td>TV Show</td>\n",
       "      <td>Planet Patrol</td>\n",
       "      <td>NaN</td>\n",
       "      <td>DICK VOSBURGH, RONNIE STEVENS, LIBBY MORRIS, M...</td>\n",
       "      <td>NaN</td>\n",
       "      <td>NaN</td>\n",
       "      <td>2018</td>\n",
       "      <td>13+</td>\n",
       "      <td>4 Seasons</td>\n",
       "      <td>TV Shows</td>\n",
       "      <td>This is Earth, 2100AD - and these are the adve...</td>\n",
       "    </tr>\n",
       "    <tr>\n",
       "      <th>9665</th>\n",
       "      <td>s9666</td>\n",
       "      <td>Movie</td>\n",
       "      <td>Outpost</td>\n",
       "      <td>Steve Barker</td>\n",
       "      <td>Ray Stevenson, Julian Wadham, Richard Brake, M...</td>\n",
       "      <td>NaN</td>\n",
       "      <td>NaN</td>\n",
       "      <td>2008</td>\n",
       "      <td>R</td>\n",
       "      <td>90 min</td>\n",
       "      <td>Action</td>\n",
       "      <td>In war-torn Eastern Europe, a world-weary grou...</td>\n",
       "    </tr>\n",
       "    <tr>\n",
       "      <th>9666</th>\n",
       "      <td>s9667</td>\n",
       "      <td>TV Show</td>\n",
       "      <td>Maradona: Blessed Dream</td>\n",
       "      <td>NaN</td>\n",
       "      <td>Esteban Recagno, Ezequiel Stremiz, Luciano Vit...</td>\n",
       "      <td>NaN</td>\n",
       "      <td>NaN</td>\n",
       "      <td>2021</td>\n",
       "      <td>TV-MA</td>\n",
       "      <td>1 Season</td>\n",
       "      <td>Drama, Sports</td>\n",
       "      <td>The series tells the story of Diego Maradona, ...</td>\n",
       "    </tr>\n",
       "    <tr>\n",
       "      <th>9667</th>\n",
       "      <td>s9668</td>\n",
       "      <td>Movie</td>\n",
       "      <td>Harry Brown</td>\n",
       "      <td>Daniel Barber</td>\n",
       "      <td>Michael Caine, Emily Mortimer, Joseph Gilgun, ...</td>\n",
       "      <td>NaN</td>\n",
       "      <td>NaN</td>\n",
       "      <td>2010</td>\n",
       "      <td>R</td>\n",
       "      <td>103 min</td>\n",
       "      <td>Action, Drama, Suspense</td>\n",
       "      <td>Harry Brown, starring two-time Academy Award w...</td>\n",
       "    </tr>\n",
       "  </tbody>\n",
       "</table>\n",
       "<p>9668 rows × 12 columns</p>\n",
       "</div>"
      ],
      "text/plain": [
       "     show_id     type                    title         director  \\\n",
       "0         s1    Movie      The Grand Seduction     Don McKellar   \n",
       "1         s2    Movie     Take Care Good Night     Girish Joshi   \n",
       "2         s3    Movie     Secrets of Deception      Josh Webber   \n",
       "3         s4    Movie       Pink: Staying True   Sonia Anderson   \n",
       "4         s5    Movie            Monster Maker     Giles Foster   \n",
       "...      ...      ...                      ...              ...   \n",
       "9663   s9664    Movie      Pride Of The Bowery  Joseph H. Lewis   \n",
       "9664   s9665  TV Show            Planet Patrol              NaN   \n",
       "9665   s9666    Movie                  Outpost     Steve Barker   \n",
       "9666   s9667  TV Show  Maradona: Blessed Dream              NaN   \n",
       "9667   s9668    Movie              Harry Brown    Daniel Barber   \n",
       "\n",
       "                                                   cast         country  \\\n",
       "0        Brendan Gleeson, Taylor Kitsch, Gordon Pinsent          Canada   \n",
       "1      Mahesh Manjrekar, Abhay Mahajan, Sachin Khedekar           India   \n",
       "2     Tom Sizemore, Lorenzo Lamas, Robert LaSardo, R...   United States   \n",
       "3     Interviews with: Pink, Adele, Beyoncé, Britney...   United States   \n",
       "4     Harry Dean Stanton, Kieran O'Brien, George Cos...  United Kingdom   \n",
       "...                                                 ...             ...   \n",
       "9663                           Leo Gorcey, Bobby Jordan             NaN   \n",
       "9664  DICK VOSBURGH, RONNIE STEVENS, LIBBY MORRIS, M...             NaN   \n",
       "9665  Ray Stevenson, Julian Wadham, Richard Brake, M...             NaN   \n",
       "9666  Esteban Recagno, Ezequiel Stremiz, Luciano Vit...             NaN   \n",
       "9667  Michael Caine, Emily Mortimer, Joseph Gilgun, ...             NaN   \n",
       "\n",
       "          date_added  release_year rating   duration                listed_in  \\\n",
       "0     March 30, 2021          2014    NaN    113 min            Comedy, Drama   \n",
       "1     March 30, 2021          2018    13+    110 min     Drama, International   \n",
       "2     March 30, 2021          2017    NaN     74 min  Action, Drama, Suspense   \n",
       "3     March 30, 2021          2014    NaN     69 min              Documentary   \n",
       "4     March 30, 2021          1989    NaN     45 min           Drama, Fantasy   \n",
       "...              ...           ...    ...        ...                      ...   \n",
       "9663             NaN          1940     7+     60 min                   Comedy   \n",
       "9664             NaN          2018    13+  4 Seasons                 TV Shows   \n",
       "9665             NaN          2008      R     90 min                   Action   \n",
       "9666             NaN          2021  TV-MA   1 Season            Drama, Sports   \n",
       "9667             NaN          2010      R    103 min  Action, Drama, Suspense   \n",
       "\n",
       "                                            description  \n",
       "0     A small fishing village must procure a local d...  \n",
       "1     A Metro Family decides to fight a Cyber Crimin...  \n",
       "2     After a man discovers his wife is cheating on ...  \n",
       "3     Pink breaks the mold once again, bringing her ...  \n",
       "4     Teenage Matt Banting wants to work with a famo...  \n",
       "...                                                 ...  \n",
       "9663  New York City street principles get an East Si...  \n",
       "9664  This is Earth, 2100AD - and these are the adve...  \n",
       "9665  In war-torn Eastern Europe, a world-weary grou...  \n",
       "9666  The series tells the story of Diego Maradona, ...  \n",
       "9667  Harry Brown, starring two-time Academy Award w...  \n",
       "\n",
       "[9668 rows x 12 columns]"
      ]
     },
     "execution_count": 50,
     "metadata": {},
     "output_type": "execute_result"
    }
   ],
   "source": [
    "ap"
   ]
  },
  {
   "cell_type": "code",
   "execution_count": 51,
   "id": "ff749e13-3173-4e5b-96a8-3e373ed00da6",
   "metadata": {},
   "outputs": [
    {
     "data": {
      "text/plain": [
       "Index(['show_id', 'type', 'title', 'director', 'cast', 'country', 'date_added',\n",
       "       'release_year', 'rating', 'duration', 'listed_in', 'description'],\n",
       "      dtype='object')"
      ]
     },
     "execution_count": 51,
     "metadata": {},
     "output_type": "execute_result"
    }
   ],
   "source": [
    "ap.columns"
   ]
  },
  {
   "cell_type": "code",
   "execution_count": 52,
   "id": "87edc73d-989f-415d-98fc-91958bd90965",
   "metadata": {},
   "outputs": [
    {
     "data": {
      "text/plain": [
       "show_id            0\n",
       "type               0\n",
       "title              0\n",
       "director        2083\n",
       "cast            1233\n",
       "country         8996\n",
       "date_added      9513\n",
       "release_year       0\n",
       "rating           337\n",
       "duration           0\n",
       "listed_in          0\n",
       "description        0\n",
       "dtype: int64"
      ]
     },
     "execution_count": 52,
     "metadata": {},
     "output_type": "execute_result"
    }
   ],
   "source": [
    "ap.isnull().sum()"
   ]
  },
  {
   "cell_type": "code",
   "execution_count": 53,
   "id": "fb45f650-f670-4ef8-8d4e-f96e6e6a3e2b",
   "metadata": {},
   "outputs": [
    {
     "data": {
      "text/plain": [
       "array(['Movie', 'TV Show'], dtype=object)"
      ]
     },
     "execution_count": 53,
     "metadata": {},
     "output_type": "execute_result"
    }
   ],
   "source": [
    "ap['type'].unique()"
   ]
  },
  {
   "cell_type": "markdown",
   "id": "cc106e7d-f464-4724-ae88-6146b71a757c",
   "metadata": {},
   "source": [
    "### Let's Fill the Missing Values Using Various Techniques for Amazon Prime Dataset :\n",
    "#### Using the same techniques used in Netflix Dataset :"
   ]
  },
  {
   "cell_type": "code",
   "execution_count": 54,
   "id": "b0b24ad7-07fa-4354-8d87-cc777a983905",
   "metadata": {},
   "outputs": [],
   "source": [
    "# Replacing the NaN values With mentioned Word ( Using Fillna() ):\n",
    "\n",
    "ap['director'] = ap['director'].fillna('UnAvailable')\n",
    "ap['cast'] = ap['cast'].fillna('UnAvailable')"
   ]
  },
  {
   "cell_type": "code",
   "execution_count": 55,
   "id": "1948f601-b818-46b4-9109-6fdd94fa0007",
   "metadata": {},
   "outputs": [],
   "source": [
    "# Replacing the NaN values with Mode of the column values ( using Fillna() ) :\n",
    "\n",
    "ap['country'] = ap['country'].fillna(ap['country'].mode()[0])\n",
    "ap['rating'] = ap['rating'].fillna(ap['rating'].mode()[0])"
   ]
  },
  {
   "cell_type": "code",
   "execution_count": 56,
   "id": "c34b737a-20c7-4884-8be8-f5a96bb412d4",
   "metadata": {},
   "outputs": [],
   "source": [
    "# Replacing the NaN values with Forward Fill ( Using ffill() method ) :\n",
    "\n",
    "ap['date_added'] = ap['date_added'].ffill()"
   ]
  },
  {
   "cell_type": "code",
   "execution_count": 57,
   "id": "38fc0892-3bba-483d-93f5-1cce6132efac",
   "metadata": {},
   "outputs": [
    {
     "data": {
      "text/plain": [
       "show_id         0\n",
       "type            0\n",
       "title           0\n",
       "director        0\n",
       "cast            0\n",
       "country         0\n",
       "date_added      0\n",
       "release_year    0\n",
       "rating          0\n",
       "duration        0\n",
       "listed_in       0\n",
       "description     0\n",
       "dtype: int64"
      ]
     },
     "execution_count": 57,
     "metadata": {},
     "output_type": "execute_result"
    }
   ],
   "source": [
    "ap.isnull().sum()"
   ]
  },
  {
   "cell_type": "code",
   "execution_count": 58,
   "id": "63ee5adc-9378-4fc2-8b4a-c5a2afaa25ed",
   "metadata": {},
   "outputs": [
    {
     "name": "stdout",
     "output_type": "stream",
     "text": [
      "<class 'pandas.core.frame.DataFrame'>\n",
      "RangeIndex: 9668 entries, 0 to 9667\n",
      "Data columns (total 12 columns):\n",
      " #   Column        Non-Null Count  Dtype \n",
      "---  ------        --------------  ----- \n",
      " 0   show_id       9668 non-null   object\n",
      " 1   type          9668 non-null   object\n",
      " 2   title         9668 non-null   object\n",
      " 3   director      9668 non-null   object\n",
      " 4   cast          9668 non-null   object\n",
      " 5   country       9668 non-null   object\n",
      " 6   date_added    9668 non-null   object\n",
      " 7   release_year  9668 non-null   int64 \n",
      " 8   rating        9668 non-null   object\n",
      " 9   duration      9668 non-null   object\n",
      " 10  listed_in     9668 non-null   object\n",
      " 11  description   9668 non-null   object\n",
      "dtypes: int64(1), object(11)\n",
      "memory usage: 906.5+ KB\n"
     ]
    }
   ],
   "source": [
    "ap.info()"
   ]
  },
  {
   "cell_type": "code",
   "execution_count": 59,
   "id": "50d11ddd-8f49-4eff-98e5-fc112c772d39",
   "metadata": {},
   "outputs": [
    {
     "data": {
      "text/plain": [
       "show_id         0\n",
       "type            0\n",
       "title           0\n",
       "director        0\n",
       "cast            0\n",
       "country         0\n",
       "date_added      0\n",
       "release_year    0\n",
       "rating          0\n",
       "duration        0\n",
       "listed_in       0\n",
       "description     0\n",
       "dtype: int64"
      ]
     },
     "execution_count": 59,
     "metadata": {},
     "output_type": "execute_result"
    }
   ],
   "source": [
    "ap.isna().sum()"
   ]
  },
  {
   "cell_type": "code",
   "execution_count": 60,
   "id": "a50f7fa3-2184-45fc-aada-4ceabbdcf9d0",
   "metadata": {},
   "outputs": [
    {
     "data": {
      "text/plain": [
       "show_id         0\n",
       "type            0\n",
       "title           0\n",
       "director        0\n",
       "cast            0\n",
       "country         0\n",
       "date_added      0\n",
       "release_year    0\n",
       "rating          0\n",
       "duration        0\n",
       "listed_in       0\n",
       "description     0\n",
       "dtype: int64"
      ]
     },
     "execution_count": 60,
     "metadata": {},
     "output_type": "execute_result"
    }
   ],
   "source": [
    "nan_counts = (ap == 'nan').sum()\n",
    "nan_counts"
   ]
  },
  {
   "cell_type": "code",
   "execution_count": 61,
   "id": "20aa4c90-2129-48c9-81f0-7030906ac975",
   "metadata": {},
   "outputs": [],
   "source": [
    "# release_year column is in int64 format :\n",
    "\n",
    "ap['release_year'] = pd.to_datetime(nf['release_year'], format = '%Y').dt.year"
   ]
  },
  {
   "cell_type": "code",
   "execution_count": 62,
   "id": "ec000204-aaab-41f3-b4c5-231f11f55c26",
   "metadata": {},
   "outputs": [],
   "source": [
    "ap['release_year'] = ap['release_year'].ffill()"
   ]
  },
  {
   "cell_type": "code",
   "execution_count": 63,
   "id": "32abe98d-51bf-46bc-8077-03982045426a",
   "metadata": {},
   "outputs": [
    {
     "data": {
      "text/plain": [
       "0"
      ]
     },
     "execution_count": 63,
     "metadata": {},
     "output_type": "execute_result"
    }
   ],
   "source": [
    "ap['release_year'].isna().sum()"
   ]
  },
  {
   "cell_type": "code",
   "execution_count": 64,
   "id": "7e13ccfd-b388-4784-92d2-34708a90906a",
   "metadata": {},
   "outputs": [],
   "source": [
    "# Similarly, \"date_added\" column needs to be in Datetime format :\n",
    " \n",
    "ap['date_added'] = pd.to_datetime(ap['date_added'], format = '%B %d, %Y')"
   ]
  },
  {
   "cell_type": "code",
   "execution_count": 65,
   "id": "42155827-f520-4675-936a-7268c3a9a26d",
   "metadata": {},
   "outputs": [
    {
     "data": {
      "text/html": [
       "<div>\n",
       "<style scoped>\n",
       "    .dataframe tbody tr th:only-of-type {\n",
       "        vertical-align: middle;\n",
       "    }\n",
       "\n",
       "    .dataframe tbody tr th {\n",
       "        vertical-align: top;\n",
       "    }\n",
       "\n",
       "    .dataframe thead th {\n",
       "        text-align: right;\n",
       "    }\n",
       "</style>\n",
       "<table border=\"1\" class=\"dataframe\">\n",
       "  <thead>\n",
       "    <tr style=\"text-align: right;\">\n",
       "      <th></th>\n",
       "      <th>show_id</th>\n",
       "      <th>type</th>\n",
       "      <th>title</th>\n",
       "      <th>director</th>\n",
       "      <th>cast</th>\n",
       "      <th>country</th>\n",
       "      <th>date_added</th>\n",
       "      <th>release_year</th>\n",
       "      <th>rating</th>\n",
       "      <th>duration</th>\n",
       "      <th>listed_in</th>\n",
       "      <th>description</th>\n",
       "    </tr>\n",
       "  </thead>\n",
       "  <tbody>\n",
       "    <tr>\n",
       "      <th>0</th>\n",
       "      <td>s1</td>\n",
       "      <td>Movie</td>\n",
       "      <td>The Grand Seduction</td>\n",
       "      <td>Don McKellar</td>\n",
       "      <td>Brendan Gleeson, Taylor Kitsch, Gordon Pinsent</td>\n",
       "      <td>Canada</td>\n",
       "      <td>2021-03-30</td>\n",
       "      <td>2020.0</td>\n",
       "      <td>13+</td>\n",
       "      <td>113 min</td>\n",
       "      <td>Comedy, Drama</td>\n",
       "      <td>A small fishing village must procure a local d...</td>\n",
       "    </tr>\n",
       "    <tr>\n",
       "      <th>1</th>\n",
       "      <td>s2</td>\n",
       "      <td>Movie</td>\n",
       "      <td>Take Care Good Night</td>\n",
       "      <td>Girish Joshi</td>\n",
       "      <td>Mahesh Manjrekar, Abhay Mahajan, Sachin Khedekar</td>\n",
       "      <td>India</td>\n",
       "      <td>2021-03-30</td>\n",
       "      <td>2021.0</td>\n",
       "      <td>13+</td>\n",
       "      <td>110 min</td>\n",
       "      <td>Drama, International</td>\n",
       "      <td>A Metro Family decides to fight a Cyber Crimin...</td>\n",
       "    </tr>\n",
       "  </tbody>\n",
       "</table>\n",
       "</div>"
      ],
      "text/plain": [
       "  show_id   type                 title      director  \\\n",
       "0      s1  Movie   The Grand Seduction  Don McKellar   \n",
       "1      s2  Movie  Take Care Good Night  Girish Joshi   \n",
       "\n",
       "                                               cast country date_added  \\\n",
       "0    Brendan Gleeson, Taylor Kitsch, Gordon Pinsent  Canada 2021-03-30   \n",
       "1  Mahesh Manjrekar, Abhay Mahajan, Sachin Khedekar   India 2021-03-30   \n",
       "\n",
       "   release_year rating duration             listed_in  \\\n",
       "0        2020.0    13+  113 min         Comedy, Drama   \n",
       "1        2021.0    13+  110 min  Drama, International   \n",
       "\n",
       "                                         description  \n",
       "0  A small fishing village must procure a local d...  \n",
       "1  A Metro Family decides to fight a Cyber Crimin...  "
      ]
     },
     "execution_count": 65,
     "metadata": {},
     "output_type": "execute_result"
    }
   ],
   "source": [
    "ap.head(2)"
   ]
  },
  {
   "cell_type": "code",
   "execution_count": 66,
   "id": "8fcf5c5f-0ee4-44de-823c-5b2a2c532a28",
   "metadata": {},
   "outputs": [
    {
     "data": {
      "text/plain": [
       "0"
      ]
     },
     "execution_count": 66,
     "metadata": {},
     "output_type": "execute_result"
    }
   ],
   "source": [
    "ap['listed_in'].isna().sum()"
   ]
  },
  {
   "cell_type": "code",
   "execution_count": null,
   "id": "75c519fe-845a-4c57-a59d-cba2b540cc5c",
   "metadata": {},
   "outputs": [],
   "source": []
  },
  {
   "cell_type": "code",
   "execution_count": 67,
   "id": "17984571-c279-4b1b-a61b-5f2130aec874",
   "metadata": {},
   "outputs": [
    {
     "data": {
      "text/plain": [
       "array(['113 min', '110 min', '74 min', '69 min', '45 min', '52 min',\n",
       "       '98 min', '131 min', '87 min', '92 min', '88 min', '93 min',\n",
       "       '94 min', '46 min', '96 min', '1 Season', '104 min', '62 min',\n",
       "       '50 min', '3 Seasons', '2 Seasons', '86 min', '36 min', '37 min',\n",
       "       '103 min', '9 min', '18 min', '14 min', '20 min', '19 min',\n",
       "       '22 min', '60 min', '6 min', '54 min', '5 min', '84 min',\n",
       "       '126 min', '125 min', '109 min', '89 min', '85 min', '56 min',\n",
       "       '40 min', '111 min', '33 min', '34 min', '95 min', '99 min',\n",
       "       '78 min', '4 Seasons', '77 min', '55 min', '53 min', '115 min',\n",
       "       '58 min', '49 min', '135 min', '91 min', '64 min', '59 min',\n",
       "       '48 min', '122 min', '90 min', '102 min', '65 min', '114 min',\n",
       "       '136 min', '70 min', '138 min', '100 min', '480 min', '4 min',\n",
       "       '30 min', '152 min', '68 min', '57 min', '7 Seasons', '31 min',\n",
       "       '151 min', '149 min', '9 Seasons', '141 min', '121 min', '79 min',\n",
       "       '140 min', '51 min', '106 min', '75 min', '27 min', '107 min',\n",
       "       '108 min', '38 min', '157 min', '43 min', '118 min', '139 min',\n",
       "       '6 Seasons', '112 min', '15 min', '72 min', '5 Seasons', '116 min',\n",
       "       '142 min', '71 min', '42 min', '81 min', '32 min', '66 min',\n",
       "       '127 min', '159 min', '67 min', '29 min', '132 min', '101 min',\n",
       "       '164 min', '73 min', '61 min', '80 min', '83 min', '44 min',\n",
       "       '120 min', '26 min', '97 min', '23 min', '105 min', '82 min',\n",
       "       '11 min', '148 min', '161 min', '123 min', '29 Seasons', '0 min',\n",
       "       '124 min', '143 min', '35 min', '47 min', '170 min', '19 Seasons',\n",
       "       '3 min', '146 min', '601 min', '24 min', '21 Seasons', '154 min',\n",
       "       '128 min', '133 min', '153 min', '119 min', '63 min', '169 min',\n",
       "       '174 min', '144 min', '7 min', '137 min', '76 min', '39 min',\n",
       "       '8 Seasons', '12 Seasons', '134 min', '163 min', '1 min',\n",
       "       '145 min', '162 min', '41 min', '147 min', '155 min', '117 min',\n",
       "       '167 min', '11 Seasons', '28 min', '25 min', '180 min', '2 min',\n",
       "       '541 min', '240 min', '129 min', '178 min', '171 min', '21 min',\n",
       "       '172 min', '173 min', '10 min', '166 min', '160 min', '130 min',\n",
       "       '479 min', '13 min', '8 min', '10 Seasons', '17 min', '16 min',\n",
       "       '158 min', '183 min', '12 min', '14 Seasons', '150 min', '481 min',\n",
       "       '181 min', '156 min', '540 min', '177 min', '550 min', '485 min',\n",
       "       '176 min', '193 min', '165 min', '175 min', '188 min', '187 min',\n",
       "       '168 min', '190 min', '185 min', '209 min', '192 min', '182 min',\n",
       "       '207 min', '269 min', '15 Seasons', '191 min'], dtype=object)"
      ]
     },
     "execution_count": 67,
     "metadata": {},
     "output_type": "execute_result"
    }
   ],
   "source": [
    "# Dealing with \"duration\" column :\n",
    "\n",
    "ap['duration'].unique()"
   ]
  },
  {
   "cell_type": "code",
   "execution_count": 68,
   "id": "d9753f4b-fa00-4e5b-9e23-cf4e772de2be",
   "metadata": {},
   "outputs": [
    {
     "data": {
      "text/plain": [
       "0"
      ]
     },
     "execution_count": 68,
     "metadata": {},
     "output_type": "execute_result"
    }
   ],
   "source": [
    "len(ap[(ap['type'] == 'TV Show') & (ap['duration'].str.contains('min'))])"
   ]
  },
  {
   "cell_type": "code",
   "execution_count": 69,
   "id": "7e60832a-cdc1-4c3f-9cf8-e110c718ba2c",
   "metadata": {},
   "outputs": [
    {
     "data": {
      "text/plain": [
       "0"
      ]
     },
     "execution_count": 69,
     "metadata": {},
     "output_type": "execute_result"
    }
   ],
   "source": [
    "len(ap[(ap['type'] == 'Movie') & (ap['duration'].str.contains('season'))])"
   ]
  },
  {
   "cell_type": "code",
   "execution_count": 70,
   "id": "75a13fd1-4d0c-4a7e-8532-b1fb1e658007",
   "metadata": {},
   "outputs": [
    {
     "data": {
      "text/plain": [
       "0       113 min\n",
       "1       110 min\n",
       "2        74 min\n",
       "3        69 min\n",
       "4        45 min\n",
       "         ...   \n",
       "9660     96 min\n",
       "9662     93 min\n",
       "9663     60 min\n",
       "9665     90 min\n",
       "9667    103 min\n",
       "Name: duration, Length: 7814, dtype: object"
      ]
     },
     "execution_count": 70,
     "metadata": {},
     "output_type": "execute_result"
    }
   ],
   "source": [
    "# Let's Sort the duration where values are in minutes :\n",
    "\n",
    "minss = ap[ap['type'] == 'Movie']['duration']\n",
    "minss"
   ]
  },
  {
   "cell_type": "code",
   "execution_count": 71,
   "id": "a438c788-8df4-4eab-95de-e6c44cdf5a1a",
   "metadata": {},
   "outputs": [],
   "source": [
    "# Let's make the \"mins\" variable Numeric :\n",
    "\n",
    "numerics = minss.str.extract(r'(\\d+\\.?\\d*)')[0]\n",
    "numerics = numerics.astype('float')"
   ]
  },
  {
   "cell_type": "code",
   "execution_count": 72,
   "id": "4fb93a99-e025-45bd-b06d-a06c0789e8a9",
   "metadata": {},
   "outputs": [
    {
     "data": {
      "text/plain": [
       "0       113.0\n",
       "1       110.0\n",
       "2        74.0\n",
       "3        69.0\n",
       "4        45.0\n",
       "        ...  \n",
       "9660     96.0\n",
       "9662     93.0\n",
       "9663     60.0\n",
       "9665     90.0\n",
       "9667    103.0\n",
       "Name: 0, Length: 7814, dtype: float64"
      ]
     },
     "execution_count": 72,
     "metadata": {},
     "output_type": "execute_result"
    }
   ],
   "source": [
    "numerics"
   ]
  },
  {
   "cell_type": "code",
   "execution_count": 73,
   "id": "b03e2186-afb0-4a97-b9c0-ad684671a7b3",
   "metadata": {},
   "outputs": [],
   "source": [
    "# Let's fill the missing Values in \"duration\" Column :\n",
    "\n",
    "ap['duration'] = ap['duration'].fillna(numerics.mode()[0])"
   ]
  },
  {
   "cell_type": "code",
   "execution_count": 74,
   "id": "49df1f1c-064c-44bc-896b-82cbdb0506a9",
   "metadata": {},
   "outputs": [
    {
     "data": {
      "text/plain": [
       "92.0"
      ]
     },
     "execution_count": 74,
     "metadata": {},
     "output_type": "execute_result"
    }
   ],
   "source": [
    "# Getting Ceiling value only ( Not Necessary ) :\n",
    "\n",
    "avrg_mins = np.ceil(numerics.mean())\n",
    "avrg_mins"
   ]
  },
  {
   "cell_type": "code",
   "execution_count": 75,
   "id": "4fa06f6b-5b04-4274-aafd-78a62ab763b9",
   "metadata": {},
   "outputs": [
    {
     "data": {
      "text/plain": [
       "0         113 min\n",
       "1         110 min\n",
       "2          74 min\n",
       "3          69 min\n",
       "4          45 min\n",
       "          ...    \n",
       "9663       60 min\n",
       "9664    4 Seasons\n",
       "9665       90 min\n",
       "9666     1 Season\n",
       "9667      103 min\n",
       "Name: duration, Length: 9668, dtype: object"
      ]
     },
     "execution_count": 75,
     "metadata": {},
     "output_type": "execute_result"
    }
   ],
   "source": [
    "ap['duration']"
   ]
  },
  {
   "cell_type": "code",
   "execution_count": 76,
   "id": "742b492d-0e9c-4405-9ed3-e5dc7b614b8b",
   "metadata": {},
   "outputs": [
    {
     "data": {
      "text/plain": [
       "duration\n",
       "False    7814\n",
       "True     1854\n",
       "Name: count, dtype: int64"
      ]
     },
     "execution_count": 76,
     "metadata": {},
     "output_type": "execute_result"
    }
   ],
   "source": [
    "ap['duration'].str.contains(r'season',case = False, na = False).value_counts()"
   ]
  },
  {
   "cell_type": "code",
   "execution_count": 77,
   "id": "1d158856-0f56-4202-8619-94f42e97d1c5",
   "metadata": {},
   "outputs": [
    {
     "data": {
      "text/plain": [
       "0       False\n",
       "1       False\n",
       "2       False\n",
       "3       False\n",
       "4       False\n",
       "        ...  \n",
       "9663    False\n",
       "9664     True\n",
       "9665    False\n",
       "9666     True\n",
       "9667    False\n",
       "Name: duration, Length: 9668, dtype: bool"
      ]
     },
     "execution_count": 77,
     "metadata": {},
     "output_type": "execute_result"
    }
   ],
   "source": [
    "# Identify rows with 'season' or 'seasons'\n",
    "\n",
    "season_mask = ap['duration'].str.contains(r'season',case = False, na = False)\n",
    "season_mask"
   ]
  },
  {
   "cell_type": "code",
   "execution_count": 78,
   "id": "a452f5f0-9c22-4256-a714-c1c6e214b7b8",
   "metadata": {},
   "outputs": [],
   "source": [
    "# Extract number of season  and multiply with average_min\n",
    "\n",
    "ap.loc[season_mask,'season_value'] = ap.loc[season_mask,'duration'].str.extract(r'(\\d+)',expand = False).astype(float)\n",
    "\n",
    "ap.loc[season_mask, 'duration'] = (ap.loc[season_mask,'season_value'] * avrg_mins).round(2).astype(str)"
   ]
  },
  {
   "cell_type": "code",
   "execution_count": 79,
   "id": "33ed1f75-69ea-40b5-b308-3732cd79405c",
   "metadata": {},
   "outputs": [],
   "source": [
    "ap['min_value'] = ap['duration'].str.extract(r'(\\d+)\\s*min', expand=False).astype(float)\n",
    "\n",
    "ap.loc[~season_mask, 'duration'] = ap.loc[~season_mask, 'min_value'].astype(str)"
   ]
  },
  {
   "cell_type": "code",
   "execution_count": 80,
   "id": "9dd7ba03-3cec-4476-850c-f34d3a035dbb",
   "metadata": {},
   "outputs": [
    {
     "data": {
      "text/plain": [
       "0     113.0\n",
       "1     110.0\n",
       "2      74.0\n",
       "3      69.0\n",
       "4      45.0\n",
       "5      52.0\n",
       "6      98.0\n",
       "7     131.0\n",
       "8      87.0\n",
       "9      92.0\n",
       "10     88.0\n",
       "11     93.0\n",
       "12     94.0\n",
       "13     46.0\n",
       "14     74.0\n",
       "15     96.0\n",
       "16     87.0\n",
       "17     92.0\n",
       "18     92.0\n",
       "19    104.0\n",
       "Name: duration, dtype: object"
      ]
     },
     "execution_count": 80,
     "metadata": {},
     "output_type": "execute_result"
    }
   ],
   "source": [
    "ap['duration'].head(20)"
   ]
  },
  {
   "cell_type": "code",
   "execution_count": 81,
   "id": "3a4bb854-b642-48e5-bb5d-57a04c05b35a",
   "metadata": {},
   "outputs": [
    {
     "data": {
      "text/plain": [
       "array(['13+', 'ALL', '18+', 'R', 'TV-Y', 'TV-Y7', 'NR', '16+', 'TV-PG',\n",
       "       '7+', 'TV-14', 'TV-NR', 'TV-G', 'PG-13', 'TV-MA', 'G', 'PG',\n",
       "       'NC-17', 'UNRATED', '16', 'AGES_16_', 'AGES_18_', 'ALL_AGES',\n",
       "       'NOT_RATE'], dtype=object)"
      ]
     },
     "execution_count": 81,
     "metadata": {},
     "output_type": "execute_result"
    }
   ],
   "source": [
    "# Dealing with Rating Column :\n",
    "ap['rating'].unique()"
   ]
  },
  {
   "cell_type": "markdown",
   "id": "b927937d-570d-4ab3-b795-d61566890789",
   "metadata": {},
   "source": [
    "#### Rating Column is OK here."
   ]
  },
  {
   "cell_type": "code",
   "execution_count": 82,
   "id": "35d0fe06-1070-4555-85cb-811de420f818",
   "metadata": {},
   "outputs": [
    {
     "data": {
      "text/plain": [
       "Index(['show_id', 'type', 'title', 'director', 'cast', 'country', 'date_added',\n",
       "       'release_year', 'rating', 'duration', 'listed_in', 'description',\n",
       "       'season_value', 'min_value'],\n",
       "      dtype='object')"
      ]
     },
     "execution_count": 82,
     "metadata": {},
     "output_type": "execute_result"
    }
   ],
   "source": [
    "ap.columns"
   ]
  },
  {
   "cell_type": "code",
   "execution_count": 83,
   "id": "346ad231-8522-4a11-865b-b943f44600c4",
   "metadata": {},
   "outputs": [],
   "source": [
    "# Dropping Unwanted features :\n",
    "\n",
    "ap.drop(['min_value', 'season_value','show_id','description'], axis=1, inplace=True)"
   ]
  },
  {
   "cell_type": "code",
   "execution_count": 84,
   "id": "694e04a0-c5ff-4222-9f14-fabe4718f953",
   "metadata": {},
   "outputs": [],
   "source": [
    "ap.rename({'listed_in':'category'},axis = 1,inplace = True)"
   ]
  },
  {
   "cell_type": "code",
   "execution_count": 85,
   "id": "1237a537-6541-4624-815d-111283d75e06",
   "metadata": {},
   "outputs": [
    {
     "data": {
      "text/plain": [
       "array([2020, 2021, 1993, 2018, 1996, 1998, 1997, 2010, 2013, 2017, 1975,\n",
       "       1978, 1983, 1987, 2012, 2001, 2014, 2002, 2003, 2004, 2011, 2008,\n",
       "       2009, 2007, 2005, 2006, 1994, 2015, 2019, 2016, 1982, 1989, 1990,\n",
       "       1991, 1999, 1986, 1992, 1984, 1980, 1961, 2000, 1995, 1985, 1976,\n",
       "       1959, 1988, 1981, 1972, 1964, 1945, 1954, 1979, 1958, 1956, 1963,\n",
       "       1970, 1973, 1925, 1974, 1960, 1966, 1971, 1962, 1969, 1977, 1967,\n",
       "       1968, 1965, 1946, 1942, 1955, 1944, 1947, 1943])"
      ]
     },
     "execution_count": 85,
     "metadata": {},
     "output_type": "execute_result"
    }
   ],
   "source": [
    "nf['release_year'].unique()"
   ]
  },
  {
   "cell_type": "code",
   "execution_count": 86,
   "id": "344a7989-f293-48a0-9359-3a72ba8f48a1",
   "metadata": {},
   "outputs": [
    {
     "data": {
      "text/plain": [
       "array([2020., 2021., 1993., 2018., 1996., 1998., 1997., 2010., 2013.,\n",
       "       2017., 1975., 1978., 1983., 1987., 2012., 2001., 2014., 2002.,\n",
       "       2003., 2004., 2011., 2008., 2009., 2007., 2005., 2006., 1994.,\n",
       "       2015., 2019., 2016., 1982., 1989., 1990., 1991., 1999., 1986.,\n",
       "       1992., 1984., 1980., 1961., 2000., 1995., 1985., 1976., 1959.,\n",
       "       1988., 1981., 1972., 1964., 1945., 1954., 1979., 1958., 1956.,\n",
       "       1963., 1970., 1973., 1925., 1974., 1960., 1966., 1971., 1962.,\n",
       "       1969., 1977., 1967., 1968., 1965., 1946., 1942., 1955., 1944.,\n",
       "       1947., 1943.])"
      ]
     },
     "execution_count": 86,
     "metadata": {},
     "output_type": "execute_result"
    }
   ],
   "source": [
    "ap['release_year'].unique()"
   ]
  },
  {
   "cell_type": "code",
   "execution_count": 87,
   "id": "63d1311d-6074-495c-be85-6c7df71c0e5e",
   "metadata": {},
   "outputs": [
    {
     "data": {
      "text/plain": [
       "0"
      ]
     },
     "execution_count": 87,
     "metadata": {},
     "output_type": "execute_result"
    }
   ],
   "source": [
    "ap['release_year'].isna().sum()"
   ]
  },
  {
   "cell_type": "code",
   "execution_count": 88,
   "id": "f34cac08-6d20-473d-81a8-e9af79527878",
   "metadata": {},
   "outputs": [
    {
     "data": {
      "text/plain": [
       "type            0\n",
       "title           0\n",
       "director        0\n",
       "cast            0\n",
       "country         0\n",
       "date_added      0\n",
       "release_year    0\n",
       "rating          0\n",
       "duration        0\n",
       "category        0\n",
       "dtype: int64"
      ]
     },
     "execution_count": 88,
     "metadata": {},
     "output_type": "execute_result"
    }
   ],
   "source": [
    "ap.isnull().sum()"
   ]
  },
  {
   "cell_type": "code",
   "execution_count": null,
   "id": "d6145a60-7dba-489d-b66c-68848a24b864",
   "metadata": {},
   "outputs": [],
   "source": []
  },
  {
   "cell_type": "code",
   "execution_count": null,
   "id": "8e1bd266-d465-44e3-bb37-972eba1a319d",
   "metadata": {},
   "outputs": [],
   "source": []
  },
  {
   "cell_type": "code",
   "execution_count": 89,
   "id": "6586d216-d413-4b6f-969c-5ed9ac2f67f7",
   "metadata": {},
   "outputs": [],
   "source": [
    "#nf.to_csv('nfe.csv')\n",
    "#ap.to_csv('ape.csv')"
   ]
  },
  {
   "cell_type": "markdown",
   "id": "20020a72-6753-4f19-8b87-c9d926cc7b2e",
   "metadata": {},
   "source": [
    "## Let's Turn to Visualization for Comparison of Both Platform :"
   ]
  },
  {
   "cell_type": "code",
   "execution_count": 90,
   "id": "98d74665-ef3f-4006-8ddc-0c02b47766e2",
   "metadata": {},
   "outputs": [],
   "source": [
    "# Preperation for visualization :\n",
    "# Label Platforms : \n",
    "\n",
    "nf['platform'] = 'NFE'\n",
    "ap['platform'] = 'APE'"
   ]
  },
  {
   "cell_type": "code",
   "execution_count": 91,
   "id": "8948f8c8-0d9f-4557-9f8f-df9aecdafed4",
   "metadata": {},
   "outputs": [],
   "source": [
    "# Combining Both the Datasets :\n",
    "\n",
    "combined_edf = pd.concat([ap,nf], ignore_index = True)"
   ]
  },
  {
   "cell_type": "code",
   "execution_count": 92,
   "id": "36750b91-499c-4184-ad9a-31f90e551125",
   "metadata": {},
   "outputs": [
    {
     "data": {
      "text/html": [
       "<div>\n",
       "<style scoped>\n",
       "    .dataframe tbody tr th:only-of-type {\n",
       "        vertical-align: middle;\n",
       "    }\n",
       "\n",
       "    .dataframe tbody tr th {\n",
       "        vertical-align: top;\n",
       "    }\n",
       "\n",
       "    .dataframe thead th {\n",
       "        text-align: right;\n",
       "    }\n",
       "</style>\n",
       "<table border=\"1\" class=\"dataframe\">\n",
       "  <thead>\n",
       "    <tr style=\"text-align: right;\">\n",
       "      <th></th>\n",
       "      <th>type</th>\n",
       "      <th>title</th>\n",
       "      <th>director</th>\n",
       "      <th>cast</th>\n",
       "      <th>country</th>\n",
       "      <th>date_added</th>\n",
       "      <th>release_year</th>\n",
       "      <th>rating</th>\n",
       "      <th>duration</th>\n",
       "      <th>category</th>\n",
       "      <th>platform</th>\n",
       "    </tr>\n",
       "  </thead>\n",
       "  <tbody>\n",
       "    <tr>\n",
       "      <th>0</th>\n",
       "      <td>Movie</td>\n",
       "      <td>The Grand Seduction</td>\n",
       "      <td>Don McKellar</td>\n",
       "      <td>Brendan Gleeson, Taylor Kitsch, Gordon Pinsent</td>\n",
       "      <td>Canada</td>\n",
       "      <td>2021-03-30</td>\n",
       "      <td>2020.0</td>\n",
       "      <td>13+</td>\n",
       "      <td>113.0</td>\n",
       "      <td>Comedy, Drama</td>\n",
       "      <td>APE</td>\n",
       "    </tr>\n",
       "    <tr>\n",
       "      <th>1</th>\n",
       "      <td>Movie</td>\n",
       "      <td>Take Care Good Night</td>\n",
       "      <td>Girish Joshi</td>\n",
       "      <td>Mahesh Manjrekar, Abhay Mahajan, Sachin Khedekar</td>\n",
       "      <td>India</td>\n",
       "      <td>2021-03-30</td>\n",
       "      <td>2021.0</td>\n",
       "      <td>13+</td>\n",
       "      <td>110.0</td>\n",
       "      <td>Drama, International</td>\n",
       "      <td>APE</td>\n",
       "    </tr>\n",
       "    <tr>\n",
       "      <th>2</th>\n",
       "      <td>Movie</td>\n",
       "      <td>Secrets of Deception</td>\n",
       "      <td>Josh Webber</td>\n",
       "      <td>Tom Sizemore, Lorenzo Lamas, Robert LaSardo, R...</td>\n",
       "      <td>United States</td>\n",
       "      <td>2021-03-30</td>\n",
       "      <td>2021.0</td>\n",
       "      <td>13+</td>\n",
       "      <td>74.0</td>\n",
       "      <td>Action, Drama, Suspense</td>\n",
       "      <td>APE</td>\n",
       "    </tr>\n",
       "    <tr>\n",
       "      <th>3</th>\n",
       "      <td>Movie</td>\n",
       "      <td>Pink: Staying True</td>\n",
       "      <td>Sonia Anderson</td>\n",
       "      <td>Interviews with: Pink, Adele, Beyoncé, Britney...</td>\n",
       "      <td>United States</td>\n",
       "      <td>2021-03-30</td>\n",
       "      <td>2021.0</td>\n",
       "      <td>13+</td>\n",
       "      <td>69.0</td>\n",
       "      <td>Documentary</td>\n",
       "      <td>APE</td>\n",
       "    </tr>\n",
       "    <tr>\n",
       "      <th>4</th>\n",
       "      <td>Movie</td>\n",
       "      <td>Monster Maker</td>\n",
       "      <td>Giles Foster</td>\n",
       "      <td>Harry Dean Stanton, Kieran O'Brien, George Cos...</td>\n",
       "      <td>United Kingdom</td>\n",
       "      <td>2021-03-30</td>\n",
       "      <td>2021.0</td>\n",
       "      <td>13+</td>\n",
       "      <td>45.0</td>\n",
       "      <td>Drama, Fantasy</td>\n",
       "      <td>APE</td>\n",
       "    </tr>\n",
       "    <tr>\n",
       "      <th>...</th>\n",
       "      <td>...</td>\n",
       "      <td>...</td>\n",
       "      <td>...</td>\n",
       "      <td>...</td>\n",
       "      <td>...</td>\n",
       "      <td>...</td>\n",
       "      <td>...</td>\n",
       "      <td>...</td>\n",
       "      <td>...</td>\n",
       "      <td>...</td>\n",
       "      <td>...</td>\n",
       "    </tr>\n",
       "    <tr>\n",
       "      <th>18470</th>\n",
       "      <td>Movie</td>\n",
       "      <td>Zodiac</td>\n",
       "      <td>David Fincher</td>\n",
       "      <td>Mark Ruffalo, Jake Gyllenhaal, Robert Downey J...</td>\n",
       "      <td>United States</td>\n",
       "      <td>2019-11-20</td>\n",
       "      <td>2007.0</td>\n",
       "      <td>R</td>\n",
       "      <td>158.0</td>\n",
       "      <td>Cult Movies, Dramas, Thrillers</td>\n",
       "      <td>NFE</td>\n",
       "    </tr>\n",
       "    <tr>\n",
       "      <th>18471</th>\n",
       "      <td>TV Show</td>\n",
       "      <td>Zombie Dumb</td>\n",
       "      <td>UnAvailable</td>\n",
       "      <td>UnAvailable</td>\n",
       "      <td>United States</td>\n",
       "      <td>2019-07-01</td>\n",
       "      <td>2018.0</td>\n",
       "      <td>TV-Y7</td>\n",
       "      <td>200.0</td>\n",
       "      <td>Kids' TV, Korean TV Shows, TV Comedies</td>\n",
       "      <td>NFE</td>\n",
       "    </tr>\n",
       "    <tr>\n",
       "      <th>18472</th>\n",
       "      <td>Movie</td>\n",
       "      <td>Zombieland</td>\n",
       "      <td>Ruben Fleischer</td>\n",
       "      <td>Jesse Eisenberg, Woody Harrelson, Emma Stone, ...</td>\n",
       "      <td>United States</td>\n",
       "      <td>2019-11-01</td>\n",
       "      <td>2009.0</td>\n",
       "      <td>R</td>\n",
       "      <td>88.0</td>\n",
       "      <td>Comedies, Horror Movies</td>\n",
       "      <td>NFE</td>\n",
       "    </tr>\n",
       "    <tr>\n",
       "      <th>18473</th>\n",
       "      <td>Movie</td>\n",
       "      <td>Zoom</td>\n",
       "      <td>Peter Hewitt</td>\n",
       "      <td>Tim Allen, Courteney Cox, Chevy Chase, Kate Ma...</td>\n",
       "      <td>United States</td>\n",
       "      <td>2020-01-11</td>\n",
       "      <td>2006.0</td>\n",
       "      <td>PG</td>\n",
       "      <td>88.0</td>\n",
       "      <td>Children &amp; Family Movies, Comedies</td>\n",
       "      <td>NFE</td>\n",
       "    </tr>\n",
       "    <tr>\n",
       "      <th>18474</th>\n",
       "      <td>Movie</td>\n",
       "      <td>Zubaan</td>\n",
       "      <td>Mozez Singh</td>\n",
       "      <td>Vicky Kaushal, Sarah-Jane Dias, Raaghav Chanan...</td>\n",
       "      <td>India</td>\n",
       "      <td>2019-03-02</td>\n",
       "      <td>2015.0</td>\n",
       "      <td>TV-14</td>\n",
       "      <td>111.0</td>\n",
       "      <td>Dramas, International Movies, Music &amp; Musicals</td>\n",
       "      <td>NFE</td>\n",
       "    </tr>\n",
       "  </tbody>\n",
       "</table>\n",
       "<p>18475 rows × 11 columns</p>\n",
       "</div>"
      ],
      "text/plain": [
       "          type                 title         director  \\\n",
       "0        Movie   The Grand Seduction     Don McKellar   \n",
       "1        Movie  Take Care Good Night     Girish Joshi   \n",
       "2        Movie  Secrets of Deception      Josh Webber   \n",
       "3        Movie    Pink: Staying True   Sonia Anderson   \n",
       "4        Movie         Monster Maker     Giles Foster   \n",
       "...        ...                   ...              ...   \n",
       "18470    Movie                Zodiac    David Fincher   \n",
       "18471  TV Show           Zombie Dumb      UnAvailable   \n",
       "18472    Movie            Zombieland  Ruben Fleischer   \n",
       "18473    Movie                  Zoom     Peter Hewitt   \n",
       "18474    Movie                Zubaan      Mozez Singh   \n",
       "\n",
       "                                                    cast         country  \\\n",
       "0         Brendan Gleeson, Taylor Kitsch, Gordon Pinsent          Canada   \n",
       "1       Mahesh Manjrekar, Abhay Mahajan, Sachin Khedekar           India   \n",
       "2      Tom Sizemore, Lorenzo Lamas, Robert LaSardo, R...   United States   \n",
       "3      Interviews with: Pink, Adele, Beyoncé, Britney...   United States   \n",
       "4      Harry Dean Stanton, Kieran O'Brien, George Cos...  United Kingdom   \n",
       "...                                                  ...             ...   \n",
       "18470  Mark Ruffalo, Jake Gyllenhaal, Robert Downey J...   United States   \n",
       "18471                                        UnAvailable   United States   \n",
       "18472  Jesse Eisenberg, Woody Harrelson, Emma Stone, ...   United States   \n",
       "18473  Tim Allen, Courteney Cox, Chevy Chase, Kate Ma...   United States   \n",
       "18474  Vicky Kaushal, Sarah-Jane Dias, Raaghav Chanan...           India   \n",
       "\n",
       "      date_added  release_year rating duration  \\\n",
       "0     2021-03-30        2020.0    13+    113.0   \n",
       "1     2021-03-30        2021.0    13+    110.0   \n",
       "2     2021-03-30        2021.0    13+     74.0   \n",
       "3     2021-03-30        2021.0    13+     69.0   \n",
       "4     2021-03-30        2021.0    13+     45.0   \n",
       "...          ...           ...    ...      ...   \n",
       "18470 2019-11-20        2007.0      R    158.0   \n",
       "18471 2019-07-01        2018.0  TV-Y7    200.0   \n",
       "18472 2019-11-01        2009.0      R     88.0   \n",
       "18473 2020-01-11        2006.0     PG     88.0   \n",
       "18474 2019-03-02        2015.0  TV-14    111.0   \n",
       "\n",
       "                                             category platform  \n",
       "0                                       Comedy, Drama      APE  \n",
       "1                                Drama, International      APE  \n",
       "2                             Action, Drama, Suspense      APE  \n",
       "3                                         Documentary      APE  \n",
       "4                                      Drama, Fantasy      APE  \n",
       "...                                               ...      ...  \n",
       "18470                  Cult Movies, Dramas, Thrillers      NFE  \n",
       "18471          Kids' TV, Korean TV Shows, TV Comedies      NFE  \n",
       "18472                         Comedies, Horror Movies      NFE  \n",
       "18473              Children & Family Movies, Comedies      NFE  \n",
       "18474  Dramas, International Movies, Music & Musicals      NFE  \n",
       "\n",
       "[18475 rows x 11 columns]"
      ]
     },
     "execution_count": 92,
     "metadata": {},
     "output_type": "execute_result"
    }
   ],
   "source": [
    "combined_edf"
   ]
  },
  {
   "cell_type": "code",
   "execution_count": 96,
   "id": "58e5b39f-077c-48c1-8cb8-e7735f7b78cd",
   "metadata": {},
   "outputs": [
    {
     "name": "stderr",
     "output_type": "stream",
     "text": [
      "<>:40: SyntaxWarning: invalid escape sequence '\\d'\n",
      "<>:40: SyntaxWarning: invalid escape sequence '\\d'\n",
      "C:\\Users\\dhira\\AppData\\Local\\Temp\\ipykernel_144\\2426510716.py:40: SyntaxWarning: invalid escape sequence '\\d'\n",
      "  movie_durations['duration_mins'] = movie_durations['duration'].str.extract('(\\d+)').astype(float)\n",
      "C:\\Users\\dhira\\AppData\\Local\\Temp\\ipykernel_144\\2426510716.py:24: DeprecationWarning: DataFrameGroupBy.apply operated on the grouping columns. This behavior is deprecated, and in a future version of pandas the grouping columns will be excluded from the operation. Either pass `include_groups=False` to exclude the groupings or explicitly select the grouping columns after groupby to silence this warning.\n",
      "  top10_countries = top_countries.groupby('platform').apply(lambda x: x.nlargest(10, 'count')).reset_index(drop=True)\n",
      "C:\\Users\\dhira\\AppData\\Local\\Temp\\ipykernel_144\\2426510716.py:40: SettingWithCopyWarning: \n",
      "A value is trying to be set on a copy of a slice from a DataFrame.\n",
      "Try using .loc[row_indexer,col_indexer] = value instead\n",
      "\n",
      "See the caveats in the documentation: https://pandas.pydata.org/pandas-docs/stable/user_guide/indexing.html#returning-a-view-versus-a-copy\n",
      "  movie_durations['duration_mins'] = movie_durations['duration'].str.extract('(\\d+)').astype(float)\n",
      "C:\\Users\\dhira\\AppData\\Local\\Temp\\ipykernel_144\\2426510716.py:41: FutureWarning: \n",
      "\n",
      "Passing `palette` without assigning `hue` is deprecated and will be removed in v0.14.0. Assign the `x` variable to `hue` and set `legend=False` for the same effect.\n",
      "\n",
      "  sns.boxplot(data=movie_durations, x='platform', y='duration_mins', ax=axes[1, 1], palette='Pastel2')\n",
      "C:\\Users\\dhira\\AppData\\Local\\Temp\\ipykernel_144\\2426510716.py:55: DeprecationWarning: DataFrameGroupBy.apply operated on the grouping columns. This behavior is deprecated, and in a future version of pandas the grouping columns will be excluded from the operation. Either pass `include_groups=False` to exclude the groupings or explicitly select the grouping columns after groupby to silence this warning.\n",
      "  top_genres = genre_counts.groupby('platform').apply(lambda x: x.nlargest(10, 'count')).reset_index(drop=True)\n"
     ]
    },
    {
     "data": {
      "image/png": "[encoded data removed]",
      "text/plain": [
       "<Figure size 1600x1600 with 6 Axes>"
      ]
     },
     "metadata": {},
     "output_type": "display_data"
    }
   ],
   "source": [
    "# Setting up plot style :\n",
    "\n",
    "sns.set(style = \"whitegrid\")\n",
    "fig, axes = plt.subplots(3,2, figsize = (16,16))\n",
    "fig.suptitle('Comparative visuals Of Streaming Platforms(APE vs NFE)',fontsize = 16)\n",
    "\n",
    "# Content Type : \n",
    "\n",
    "type_counts = combined_edf.groupby(['platform','type']).size().reset_index(name = 'count')\n",
    "sns.barplot(data = type_counts, x = 'platform',y = 'count', hue = 'type', ax = axes[0,0], palette = 'Set2')\n",
    "axes[0,0].set_title('Content Type Distribution')\n",
    "\n",
    "#----------------------------------------------------------------------------------------------------------------------\n",
    "# Top 10 Countries :\n",
    "\n",
    "top_countries = (\n",
    "    combined_edf.dropna(subset = ['country'])\n",
    "    .groupby(['platform','country'])\n",
    "    .size()\n",
    "    .reset_index(name = 'count')\n",
    "    .sort_values('count', ascending = False)\n",
    ")\n",
    "\n",
    "top10_countries = top_countries.groupby('platform').apply(lambda x: x.nlargest(10, 'count')).reset_index(drop=True)\n",
    "sns.barplot(data = top10_countries, x = 'count', y = 'country', hue = 'platform', ax = axes[0,1],palette = 'Set1' )\n",
    "axes[0,1].set_title('Top 10 Countries by Content Count')\n",
    "\n",
    "#-------------------------------------------------------------------------------------------------------------------------------------------\n",
    "# Ratings:\n",
    "\n",
    "rating_counts = combined_edf.groupby(['platform', 'rating']).size().reset_index(name='count')\n",
    "sns.barplot(data=rating_counts[rating_counts['rating'].notna()], x='rating', y='count', hue='platform', ax=axes[1, 0], palette='coolwarm')\n",
    "axes[1, 0].set_title(\"Rating Distribution\")\n",
    "axes[1, 0].tick_params(axis='x', rotation=45)\n",
    "\n",
    "# -------------------------------------------------------------------------------------------------------------------------------\n",
    "# Duration Of Movie :\n",
    "\n",
    "movie_durations = combined_edf[(combined_edf['type'] == 'Movie') & (combined_edf['duration'].notna())]\n",
    "movie_durations['duration_mins'] = movie_durations['duration'].str.extract('(\\d+)').astype(float)\n",
    "sns.boxplot(data=movie_durations, x='platform', y='duration_mins', ax=axes[1, 1], palette='Pastel2')\n",
    "axes[1, 1].set_title(\"Movie Duration Comparison\")\n",
    "\n",
    "#-----------------------------------------------------------------------------------------------------------------------------------\n",
    "# Yearly Release Trend :\n",
    "\n",
    "yearly_release = combined_edf.groupby(['platform', 'release_year']).size().reset_index(name='count')\n",
    "sns.lineplot(data=yearly_release, x='release_year', y='count', hue='platform', marker='o', ax=axes[2, 0], palette='Dark2')\n",
    "axes[2, 0].set_title(\"Yearly Releases\")\n",
    "\n",
    "#--------------------------------------------------------------------------------------------------------------------------------------\n",
    "# Top Categories :\n",
    "\n",
    "genre_counts = combined_edf.groupby(['platform', 'category']).size().reset_index(name='count')\n",
    "top_genres = genre_counts.groupby('platform').apply(lambda x: x.nlargest(10, 'count')).reset_index(drop=True)\n",
    "sns.barplot(data=top_genres, y='category', x='count', hue='platform', ax=axes[2, 1], palette='Set3')\n",
    "axes[2, 1].set_title(\"Top Categories by Platform\")\n",
    "\n",
    "plt.tight_layout(rect = [0, 0, 1, 0.97])\n",
    "plt.show()"
   ]
  },
  {
   "cell_type": "code",
   "execution_count": 98,
   "id": "b7442f99-f8c4-4dd8-93a7-8fdf035363fe",
   "metadata": {},
   "outputs": [],
   "source": [
    "combined_edf.to_csv('Entertainment_df.csv')"
   ]
  },
  {
   "cell_type": "markdown",
   "id": "85721636-edce-4fcd-bd85-995612aff79d",
   "metadata": {},
   "source": [
    "# Conclusion :"
   ]
  },
  {
   "cell_type": "markdown",
   "id": "7e9d93c6-e477-4861-8dfd-6108d2596f22",
   "metadata": {},
   "source": [
    "### Content Type Distribution (Movie vs TV Show) :\n",
    "#### 1. Both platforms are movie-heavy, but APE has a higher share of Movies\n",
    "#### 2. NFE includes a relatively larger proportion of TV Shows — possibly signaling a more episodic content strategy.\n",
    "#### Key : APE may prioritize feature-length content, while NFE is building a more diverse format offering.\n",
    "# ---------------------------------\n",
    "### Top Contributing Countries :\n",
    "#### 1. Both platforms rely heavily on USA, India, and UK.\n",
    "#### 2. However, APE includes more diversity from countries like Canada and Japan, whereas NFE shows strong presence from France and Mexico.\n",
    "#### Key : APE appears more global; NFE may focus on specific regional markets.\n",
    "# ----------------------------------\n",
    "### Content Rating Distribution :\n",
    "#### 1. NFE contains more content in mature ratings like TV-MA and R.\n",
    "#### 2. APE offers a wider spread across PG, PG-13, and family-friendly options.\n",
    "#### Key : NFE may cater more toward adult audiences, while APE balances adult and family content.\n",
    "# ----------------------------------\n",
    "### Movie Duration Distribution :\n",
    "#### 1. APE's movies tend to have longer average durations, with several exceeding 120 minutes.\n",
    "#### 2. NFE’s movies are more tightly packed around 90–100 minutes.\n",
    "#### Key : APE might be investing in more full-length features; NFE favors concise viewing experiences.\n",
    "# -----------------------------------\n",
    "### Yerarly Content Release Trend :\n",
    "#### 1. Both platforms ramped up content around 2017–2021, possibly during streaming's global boom.\n",
    "#### 2. APE shows a more consistent upward trend, while NFE had a spike and slight drop-off.\n",
    "#### Key : APE’s content library is growing steadily; NFE may be more selective or paused expansion.\n",
    "# ------------------------------------\n",
    "### Top Categories / Genres :\n",
    "#### 1. APE dominates in categories like Drama, Action, and Documentary.\n",
    "#### 2. NFE leans more into Comedy, Romance, and Crime.\n",
    "#### Key : APE emphasizes informative and action-heavy genres; NFE positions itself with entertainment and lighter themes.\n",
    "# -------------------------------------"
   ]
  },
  {
   "cell_type": "code",
   "execution_count": null,
   "id": "f5783cfe-93cc-44ba-80f2-78dffe7f191b",
   "metadata": {},
   "outputs": [],
   "source": []
  }
 ],
 "metadata": {
  "kernelspec": {
   "display_name": "Python 3 (ipykernel)",
   "language": "python",
   "name": "python3"
  },
  "language_info": {
   "codemirror_mode": {
    "name": "ipython",
    "version": 3
   },
   "file_extension": ".py",
   "mimetype": "text/x-python",
   "name": "python",
   "nbconvert_exporter": "python",
   "pygments_lexer": "ipython3",
   "version": "3.12.7"
  }
 },
 "nbformat": 4,
 "nbformat_minor": 5
}
